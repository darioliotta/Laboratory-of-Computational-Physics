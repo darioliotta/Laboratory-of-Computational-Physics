{
 "cells": [
  {
   "cell_type": "code",
   "execution_count": 1,
   "metadata": {},
   "outputs": [
    {
     "name": "stdout",
     "output_type": "stream",
     "text": [
      "/Users/darioliotta/Documents/Physics of Data/Laboratory of Computational Physics/Exercises/01_data\n"
     ]
    }
   ],
   "source": [
    "from math import pi\n",
    "\n",
    "%cd ./01_data"
   ]
  },
  {
   "cell_type": "markdown",
   "metadata": {},
   "source": [
    "0\\. Implement a function (whatever you want) and save it to a file (e.g. `function.py`). Import that file and use that function in this notebook.\n"
   ]
  },
  {
   "cell_type": "code",
   "execution_count": 2,
   "metadata": {},
   "outputs": [
    {
     "name": "stdout",
     "output_type": "stream",
     "text": [
      "Hello Dario, you're name is very beautiful!\n"
     ]
    }
   ],
   "source": [
    "from function import hello\n",
    "\n",
    "print(hello('Dario'))"
   ]
  },
  {
   "cell_type": "markdown",
   "metadata": {},
   "source": [
    "1\\. Write the following as a list comprehension"
   ]
  },
  {
   "cell_type": "code",
   "execution_count": 3,
   "metadata": {},
   "outputs": [
    {
     "name": "stdout",
     "output_type": "stream",
     "text": [
      "[(0, 0), (0, 1), (0, 2), (0, 3), (1, 0), (1, 1), (1, 2), (1, 3), (2, 0), (2, 1), (2, 2), (2, 3)]\n",
      "As a list comprehension: [(0, 0), (0, 1), (0, 2), (0, 3), (1, 0), (1, 1), (1, 2), (1, 3), (2, 0), (2, 1), (2, 2), (2, 3)]\n",
      "[0, 4, 16]\n",
      "As a list comprehension: [0, 4, 16]\n"
     ]
    }
   ],
   "source": [
    "#1\n",
    "ans = []\n",
    "for i in range(3):\n",
    "    for j in range(4):\n",
    "        ans.append((i, j))\n",
    "print(ans)\n",
    "\n",
    "ans_comprehension = [(i, j) for i in range(3) for j in range(4)]\n",
    "print(\"As a list comprehension:\", ans_comprehension)\n",
    "\n",
    "#2\n",
    "ans = map(lambda x: x*x, filter(lambda x: x%2 == 0, range(5)))\n",
    "print (list(ans))\n",
    "\n",
    "ans_comprehension = [x*x for x in range(5) if x % 2 == 0]\n",
    "print(\"As a list comprehension:\", ans_comprehension)\n",
    "\n"
   ]
  },
  {
   "cell_type": "markdown",
   "metadata": {},
   "source": [
    "2\\. Convert the following function into a pure function with no global variables or side effects"
   ]
  },
  {
   "cell_type": "code",
   "execution_count": 1,
   "metadata": {},
   "outputs": [
    {
     "name": "stdout",
     "output_type": "stream",
     "text": [
      "[1, 2, 3, 0, 1, 2, 3, 4]\n",
      "[1, 2, 3, 0, 1, 2, 3, 4]\n",
      "\t\n",
      "With my function:\n",
      "[1, 2, 3, 0, 1, 2, 3, 4]\n",
      "[1, 2, 3]\n"
     ]
    }
   ],
   "source": [
    "x = 5\n",
    "def f(alist):\n",
    "    for i in range(x):\n",
    "         alist.append(i)\n",
    "    return alist\n",
    "\n",
    "alist = [1,2,3]\n",
    "ans = f(alist)\n",
    "print (ans)\n",
    "print (alist) #alist has been changed!\n",
    "\n",
    "def f2(alist, x):\n",
    "    blist = alist.copy()      #Copying the original list in another list\n",
    "    for i in range(x):\n",
    "         blist.append(i)      #We append new values 0, 1, ..., x to the new list\n",
    "    return blist\n",
    "\n",
    "alist = [1, 2, 3]\n",
    "ans = f2(alist, 5)\n",
    "print('\\t')\n",
    "print('With my function:')\n",
    "print(ans)\n",
    "print(alist) #This time, alist has not ben changed!"
   ]
  },
  {
   "cell_type": "markdown",
   "metadata": {},
   "source": [
    "3\\. Write a `decorator` hello that makes every wrapped function print “Hello!”, i.e. something like:\n",
    "\n",
    "```python\n",
    "@hello\n",
    "def square(x):\n",
    "    return x*x\n",
    "```"
   ]
  },
  {
   "cell_type": "code",
   "execution_count": 37,
   "metadata": {},
   "outputs": [
    {
     "name": "stdout",
     "output_type": "stream",
     "text": [
      "Hello!\n",
      "5.0 squared is: 25.0\n"
     ]
    }
   ],
   "source": [
    "def hello(func):\n",
    "    def wrapper(arg):\n",
    "        print(\"Hello!\")\n",
    "        result = func(arg)\n",
    "        return result\n",
    "    return wrapper\n",
    "\n",
    "@hello\n",
    "def square(x):\n",
    "    return x*x\n",
    "\n",
    "x = float(input(\"Number you want to square: \"))\n",
    "x2 = square(x)\n",
    "print(f\"{x} squared is: {x2}\")"
   ]
  },
  {
   "cell_type": "markdown",
   "metadata": {},
   "source": [
    "4\\. Write the factorial function so that it a) does and b) does not use recursion."
   ]
  },
  {
   "cell_type": "code",
   "execution_count": 61,
   "metadata": {},
   "outputs": [
    {
     "name": "stdout",
     "output_type": "stream",
     "text": [
      "Number: 10\n",
      "Factorial with recursive method: 3628800\n",
      "Factorial with non recursive method: 3628800\n"
     ]
    }
   ],
   "source": [
    "#Recursive method\n",
    "def factorial1(n):\n",
    "    if n == 0:\n",
    "        return 1\n",
    "    else:\n",
    "        return n * factorial1(n-1)\n",
    "\n",
    "#Non-recursive method\n",
    "def factorial2(n):\n",
    "    if n == 0:\n",
    "        return 1\n",
    "    else:\n",
    "        f = 1\n",
    "        for i in range(1, n+1):\n",
    "            f *= i\n",
    "        return f\n",
    "        \n",
    "\n",
    "n = int(input(\"Give me the number: \"))\n",
    "print(\"Number:\", n)\n",
    "\n",
    "print(\"Factorial with recursive method:\", factorial1(n))\n",
    "print(\"Factorial with non recursive method:\", factorial2(n))"
   ]
  },
  {
   "cell_type": "markdown",
   "metadata": {},
   "source": [
    "5\\. Use HOFs (zip in particular) to compute the weight of a circle, a disk and a sphere, assuming different radii and different densities:\n",
    "\n",
    "```python\n",
    "densities = {\"Al\":[0.5,1,2],\"Fe\":[3,4,5],\"Pb\": [15,20,30]}\n",
    "radii = [1,2,3]\n",
    "```\n",
    "\n",
    "where the entries of the dictionary's values are the linear, superficial and volumetric densities of the materials respectively.\n",
    "\n",
    "In particular define a list of three lambda functions using a comprehension that computes the circumference, the area and the volume for a given radius.\n"
   ]
  },
  {
   "cell_type": "code",
   "execution_count": 65,
   "metadata": {},
   "outputs": [
    {
     "name": "stdout",
     "output_type": "stream",
     "text": [
      "Al with radius 1 and density 0.5: 3.141592653589793\n",
      "Al with radius 1 and density 1: 3.141592653589793\n",
      "Al with radius 1 and density 2: 8.377580409572781\n",
      "Al with radius 2 and density 0.5: 6.283185307179586\n",
      "Al with radius 2 and density 1: 12.566370614359172\n",
      "Al with radius 2 and density 2: 67.02064327658225\n",
      "Al with radius 3 and density 0.5: 9.42477796076938\n",
      "Al with radius 3 and density 1: 28.274333882308138\n",
      "Al with radius 3 and density 2: 226.19467105846508\n",
      "Fe with radius 1 and density 3: 18.84955592153876\n",
      "Fe with radius 1 and density 4: 12.566370614359172\n",
      "Fe with radius 1 and density 5: 20.94395102393195\n",
      "Fe with radius 2 and density 3: 37.69911184307752\n",
      "Fe with radius 2 and density 4: 50.26548245743669\n",
      "Fe with radius 2 and density 5: 167.5516081914556\n",
      "Fe with radius 3 and density 3: 56.548667764616276\n",
      "Fe with radius 3 and density 4: 113.09733552923255\n",
      "Fe with radius 3 and density 5: 565.4866776461627\n",
      "Pb with radius 1 and density 15: 94.24777960769379\n",
      "Pb with radius 1 and density 20: 62.83185307179586\n",
      "Pb with radius 1 and density 30: 125.66370614359172\n",
      "Pb with radius 2 and density 15: 188.49555921538757\n",
      "Pb with radius 2 and density 20: 251.32741228718345\n",
      "Pb with radius 2 and density 30: 1005.3096491487338\n",
      "Pb with radius 3 and density 15: 282.7433388230814\n",
      "Pb with radius 3 and density 20: 565.4866776461628\n",
      "Pb with radius 3 and density 30: 3392.9200658769764\n"
     ]
    }
   ],
   "source": [
    "densities = {\"Al\" : [0.5, 1, 2], \"Fe\" : [3, 4, 5], \"Pb\" : [15, 20, 30]}\n",
    "radii = [1, 2, 3]\n",
    "\n",
    "def weight(r, material):\n",
    "    dimensions = [lambda r=r, i=i: pi * (r ** i) for i in range(1, 4)]\n",
    "    coefficients = [2, 1, 4/3]\n",
    "    return [density * c * d() for density, c, d in zip(material, coefficients, dimensions)]\n",
    "\n",
    "for key in densities:\n",
    "    for r in radii:\n",
    "        \n",
    "        weights = weight(r, densities[key])\n",
    "        \n",
    "        for i in range(len(weights)):\n",
    "            print(f\"{key} with radius {r} and density {densities[key][i]}: {weights[i]}\")"
   ]
  },
  {
   "cell_type": "markdown",
   "metadata": {},
   "source": [
    "6\\. Edit the class defintion to add an instance attribute of is_hungry = True to the Dog class. Then add a method called eat() which changes the value of is_hungry to False when called. Figure out the best way to feed each dog and then output “My dogs are hungry.” if all are hungry or “My dogs are not hungry.” if all are not hungry. The final output should look like this:\n",
    "\n",
    "`I have 3 dogs. \n",
    "Tom is 6. \n",
    "Fletcher is 7. \n",
    "Larry is 9. \n",
    "And they're all mammals, of course. \n",
    "My dogs are not hungry.\n",
    "`\n",
    "\n",
    "```python\n",
    "# Parent class\n",
    "class Dog:\n",
    "\n",
    "    # Class attribute\n",
    "    species = 'mammal'\n",
    "\n",
    "    # Initializer / Instance attributes\n",
    "    def __init__(self, name, age):\n",
    "        self.name = name\n",
    "        self.age = age\n",
    "\n",
    "    # instance method\n",
    "    def description(self):\n",
    "        return \"{} is {} years old\".format(self.name, self.age)\n",
    "\n",
    "    # instance method\n",
    "    def speak(self, sound):\n",
    "        return \"{} says {}\".format(self.name, sound)\n",
    "\n",
    "# Child class (inherits from Dog class)\n",
    "class RussellTerrier(Dog):\n",
    "    def run(self, speed):\n",
    "        return \"{} runs {}\".format(self.name, speed)\n",
    "\n",
    "# Child class (inherits from Dog class)\n",
    "class Bulldog(Dog):\n",
    "    def run(self, speed):\n",
    "        return \"{} runs {}\".format(self.name, speed)\n",
    "```"
   ]
  },
  {
   "cell_type": "code",
   "execution_count": 66,
   "metadata": {},
   "outputs": [
    {
     "name": "stdout",
     "output_type": "stream",
     "text": [
      "I have 3 dogs.\n",
      "Tom is 6.\n",
      "Fletcher is 7.\n",
      "Larry is 9.\n",
      "And they're all mammals, of course.\n",
      "My dogs are not hungry.\n"
     ]
    }
   ],
   "source": [
    "#Parent class\n",
    "class Dog:\n",
    "\n",
    "    #Class attribute\n",
    "    species = 'mammal'\n",
    "    \n",
    "    #Class attribute\n",
    "    is_hungry = True\n",
    "\n",
    "    #Initializer / Instance attributes\n",
    "    def __init__(self, name, age):\n",
    "        self.name = name\n",
    "        self.age = age\n",
    "\n",
    "    #Instance method\n",
    "    def description(self):\n",
    "        return \"{} is {} years old\".format(self.name, self.age)\n",
    "\n",
    "    #Instance method\n",
    "    def speak(self, sound):\n",
    "        return \"{} says {}\".format(self.name, sound)\n",
    "    \n",
    "    #Instance method\n",
    "    def eat(self):\n",
    "        self.is_hungry = False\n",
    "\n",
    "#Child class (inherits from Dog class)\n",
    "class RussellTerrier(Dog):\n",
    "    def run(self, speed):\n",
    "        return \"{} runs {}\".format(self.name, speed)\n",
    "\n",
    "#Child class (inherits from Dog class)\n",
    "class Bulldog(Dog):\n",
    "    def run(self, speed):\n",
    "        return \"{} runs {}\".format(self.name, speed)\n",
    "    \n",
    "my_dogs = [Dog(\"Tom\", 6), Dog(\"Fletcher\", 7), Dog(\"Larry\", 9)]\n",
    "\n",
    "print(\"I have\", len(my_dogs), \"dogs.\")\n",
    "\n",
    "for dog in my_dogs:\n",
    "    print(\"{} is {}.\".format(dog.name, dog.age))\n",
    "    if dog.is_hungry == True: #Feeding the dogs\n",
    "        dog.eat()\n",
    "    \n",
    "print(\"And they're all {}s, of course.\".format(dog.species))\n",
    "\n",
    "#Hungriness parameter\n",
    "appetite = 0\n",
    "\n",
    "for dog in my_dogs:\n",
    "    if dog.is_hungry == True:\n",
    "        appetite += 1\n",
    "    elif dog.is_hungry == False:\n",
    "        appetite -= 1\n",
    "        \n",
    "if appetite == len(my_dogs):\n",
    "    print(\"My dogs are hungry.\")\n",
    "elif appetite == -len(my_dogs):\n",
    "    print(\"My dogs are not hungry.\")"
   ]
  }
 ],
 "metadata": {
  "kernelspec": {
   "display_name": "Python 3 (ipykernel)",
   "language": "python",
   "name": "python3"
  },
  "language_info": {
   "codemirror_mode": {
    "name": "ipython",
    "version": 3
   },
   "file_extension": ".py",
   "mimetype": "text/x-python",
   "name": "python",
   "nbconvert_exporter": "python",
   "pygments_lexer": "ipython3",
   "version": "3.11.5"
  }
 },
 "nbformat": 4,
 "nbformat_minor": 2
}
