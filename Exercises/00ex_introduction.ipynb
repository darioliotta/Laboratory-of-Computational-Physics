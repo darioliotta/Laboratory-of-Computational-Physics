{
 "cells": [
  {
   "cell_type": "markdown",
   "metadata": {},
   "source": [
    "1. The MickeyMouse problem\n",
    "\n",
    "a) Write a program that prints the numbers from 1 to 100. But for multiples of 3 print `Mickey` instead of the corresponding number and for the multiples of 5 print `Mouse`. For numbers which are multiples of both three and five print `MickeyMouse`\n",
    "\n",
    "b) Put the result in a tuple and substitute `Mickey` with `Donald` and `Mouse` with `Duck`"
   ]
  },
  {
   "cell_type": "code",
   "execution_count": 1,
   "metadata": {},
   "outputs": [
    {
     "name": "stdout",
     "output_type": "stream",
     "text": [
      "1\n",
      "2\n",
      "Mickey\n",
      "4\n",
      "Mouse\n",
      "Mickey\n",
      "7\n",
      "8\n",
      "Mickey\n",
      "Mouse\n",
      "11\n",
      "Mickey\n",
      "13\n",
      "14\n",
      "MickeyMouse\n",
      "16\n",
      "17\n",
      "Mickey\n",
      "19\n",
      "Mouse\n",
      "Mickey\n",
      "22\n",
      "23\n",
      "Mickey\n",
      "Mouse\n",
      "26\n",
      "Mickey\n",
      "28\n",
      "29\n",
      "MickeyMouse\n",
      "31\n",
      "32\n",
      "Mickey\n",
      "34\n",
      "Mouse\n",
      "Mickey\n",
      "37\n",
      "38\n",
      "Mickey\n",
      "Mouse\n",
      "41\n",
      "Mickey\n",
      "43\n",
      "44\n",
      "MickeyMouse\n",
      "46\n",
      "47\n",
      "Mickey\n",
      "49\n",
      "Mouse\n",
      "Mickey\n",
      "52\n",
      "53\n",
      "Mickey\n",
      "Mouse\n",
      "56\n",
      "Mickey\n",
      "58\n",
      "59\n",
      "MickeyMouse\n",
      "61\n",
      "62\n",
      "Mickey\n",
      "64\n",
      "Mouse\n",
      "Mickey\n",
      "67\n",
      "68\n",
      "Mickey\n",
      "Mouse\n",
      "71\n",
      "Mickey\n",
      "73\n",
      "74\n",
      "MickeyMouse\n",
      "76\n",
      "77\n",
      "Mickey\n",
      "79\n",
      "Mouse\n",
      "Mickey\n",
      "82\n",
      "83\n",
      "Mickey\n",
      "Mouse\n",
      "86\n",
      "Mickey\n",
      "88\n",
      "89\n",
      "MickeyMouse\n",
      "91\n",
      "92\n",
      "Mickey\n",
      "94\n",
      "Mouse\n",
      "Mickey\n",
      "97\n",
      "98\n",
      "Mickey\n",
      "Mouse\n"
     ]
    }
   ],
   "source": [
    "mickey = 3\n",
    "mouse = 5\n",
    "mickeymouse = ['MickeyMouse', 'Mickey', 'Mouse']\n",
    "donalduck = ()\n",
    "\n",
    "for i in range(1,101):\n",
    "    if i % mickey == 0 and i % mouse == 0:  #Both conditions are satisfied\n",
    "        print(mickeymouse[0])\n",
    "        donalduck += (\"DonaldDuck\",)        #Add 'DonaldDuck' to the tuple\n",
    "    elif i % mickey == 0:\n",
    "        print(mickeymouse[1])\n",
    "        donalduck += (\"Donald\",)            #Add 'Donald' to the tuple\n",
    "    elif i % mouse == 0:\n",
    "        print(mickeymouse[2])\n",
    "        donalduck += (\"Duck\",)              #Add 'Duck' to the tuple\n",
    "    else:\n",
    "        print(i)\n",
    "        donalduck += (i,)                   #Add the number to the tuple"
   ]
  },
  {
   "cell_type": "markdown",
   "metadata": {},
   "source": [
    "2\\. The swap function\n",
    "\n",
    "Write a function that swap the values of two input variables x and y (whatever the type). Try to do that also without a temporary variable"
   ]
  },
  {
   "cell_type": "code",
   "execution_count": 5,
   "metadata": {},
   "outputs": [
    {
     "name": "stdout",
     "output_type": "stream",
     "text": [
      "I don't understand your answer.\n",
      "I don't understand your answer.\n",
      "I swapped the variables: x = 5 and y = 6\n"
     ]
    }
   ],
   "source": [
    "#Get the values from keyboard\n",
    "x=input(\"Set the value of x: \")\n",
    "y=input(\"Set the value of y: \")\n",
    "\n",
    "#Function that uses no temporary variables\n",
    "def swap_function(x, y):\n",
    "    return y, x\n",
    "\n",
    "#Inizialize the getting-answers-from-keyboard control parameters\n",
    "answer = '0'\n",
    "i = 0\n",
    "\n",
    "while(answer != 'y' and answer != 'Y' and answer != 'n' and answer != 'N'):\n",
    "    \n",
    "    if(i == 1):\n",
    "        print(\"I don't understand your answer.\")\n",
    "        \n",
    "    answer=input(\"Do you want to do it with a temporary variable? y/n: \")\n",
    "    \n",
    "    i = 1\n",
    "\n",
    "if answer == 'y' or answer == 'Y':\n",
    "\n",
    "    z = x\n",
    "    x = y\n",
    "    y = z\n",
    "\n",
    "    print(\"I swapped the variables: x =\", x, \"and y =\", y)\n",
    "    \n",
    "elif answer == 'n' or answer == 'N':\n",
    "    \n",
    "    x, y = swap_function(x, y)\n",
    "    \n",
    "    print(\"I swapped the variables: x =\", x, \"and y =\", y)"
   ]
  },
  {
   "cell_type": "markdown",
   "metadata": {},
   "source": [
    "3\\. Computing the distance\n",
    "\n",
    "Write a function that calculates and returns the euclidean distance between two points *u* and *v*, where *u* and *v* are both 2-tuples *(x,y)*. For example, if *u=(3,0)* and *v=(0,4)*, the function should return 5"
   ]
  },
  {
   "cell_type": "code",
   "execution_count": 6,
   "metadata": {},
   "outputs": [
    {
     "name": "stdout",
     "output_type": "stream",
     "text": [
      "Distance:  2.8284271247461903\n"
     ]
    }
   ],
   "source": [
    "import math\n",
    "\n",
    "#Declare the tuples\n",
    "u = ()\n",
    "v = ()\n",
    "\n",
    "#Add the values from keyboard\n",
    "u += (float(input(\"Give me ux: \")),)\n",
    "u += (float(input(\"Give me uy: \")),)\n",
    "v += (float(input(\"Give me vx: \")),)\n",
    "v += (float(input(\"Give me vy: \")),)\n",
    "\n",
    "#Computing the distance\n",
    "d = math.sqrt((u[0] - v[0])**2 + (u[1] - v[1])**2)\n",
    "\n",
    "print(\"Distance: \", d)"
   ]
  },
  {
   "cell_type": "markdown",
   "metadata": {},
   "source": [
    "4\\. Counting letters\n",
    "\n",
    "Write a program to calculate the number of times each character occurs in a given string *s*. Ignore differneces in capitalization"
   ]
  },
  {
   "cell_type": "code",
   "execution_count": 7,
   "metadata": {},
   "outputs": [
    {
     "name": "stdout",
     "output_type": "stream",
     "text": [
      "Letter a was typed 7 times\n",
      "Letter b was typed 5 times\n",
      "Letter c was typed 3 times\n",
      "Letter d was typed 3 times\n",
      "Letter e was typed 22 times\n",
      "Letter f was typed 10 times\n",
      "Letter g was typed 1 times\n",
      "Letter h was typed 9 times\n",
      "Letter i was typed 14 times\n",
      "Letter j was typed 0 times\n",
      "Letter k was typed 2 times\n",
      "Letter l was typed 6 times\n",
      "Letter m was typed 12 times\n",
      "Letter n was typed 10 times\n",
      "Letter o was typed 13 times\n",
      "Letter p was typed 8 times\n",
      "Letter q was typed 0 times\n",
      "Letter r was typed 17 times\n",
      "Letter s was typed 9 times\n",
      "Letter t was typed 19 times\n",
      "Letter u was typed 9 times\n",
      "Letter v was typed 2 times\n",
      "Letter w was typed 2 times\n",
      "Letter x was typed 0 times\n",
      "Letter y was typed 2 times\n",
      "Letter z was typed 0 times\n"
     ]
    }
   ],
   "source": [
    "s=\"Write a program that prints the numbers from 1 to 100. \\\n",
    "But for multiples of three print Mickey instead of the number and for the multiples of five print Mouse. \\\n",
    "For numbers which are multiples of both three and five print MickeyMouse\"\n",
    "\n",
    "#Inizialize the counting through a dictionary\n",
    "alphabet = 'abcdefghijklmnopqrstuvwxyz'\n",
    "counter = {letter: 0 for letter in alphabet}\n",
    "\n",
    "s = s.lower()  #Lowercasing everything because the program needs to be case-insensitive\n",
    "\n",
    "for c in s:\n",
    "    for letter in counter:\n",
    "        if c == letter:\n",
    "            counter[letter]+=1 #Update the counting in the dictionary\n",
    "\n",
    "#Get the results printed out\n",
    "for letter in counter:\n",
    "    print(f\"Letter {letter} was typed {counter[letter]} times\")"
   ]
  },
  {
   "cell_type": "markdown",
   "metadata": {},
   "source": [
    "5\\. Isolating the unique\n",
    "\n",
    "Write a function that determines and count the unique numbers in the list *l*"
   ]
  },
  {
   "cell_type": "code",
   "execution_count": 8,
   "metadata": {},
   "outputs": [
    {
     "name": "stdout",
     "output_type": "stream",
     "text": [
      "There are 54 unique numbers and they are [58, 74, 96, 64, 10, 24, 19, 33, 86, 99, 18, 63, 47, 88, 55, 54, 8, 56, 79, 81, 57, 37, 1, 9, 42, 50, 95, 90, 98, 39, 16, 82, 31, 92, 41, 45, 30, 66, 70, 85, 94, 5, 3, 36, 72, 91, 84, 34, 87, 75, 53, 89, 51, 20]\n"
     ]
    }
   ],
   "source": [
    "l = [36, 45, 58, 3, 74, 96, 64, 45, 31, 10, 24, 19, 33, 86, 99, 18, 63, 70, 85,\n",
    " 85, 63, 47, 56, 42, 70, 84, 88, 55, 20, 54, 8, 56, 51, 79, 81, 57, 37, 91,\n",
    " 1, 84, 84, 36, 66, 9, 89, 50, 42, 91, 50, 95, 90, 98, 39, 16, 82, 31, 92, 41,\n",
    " 45, 30, 66, 70, 34, 85, 94, 5, 3, 36, 72, 91, 84, 34, 87, 75, 53, 51, 20, 89, 51, 20]\n",
    "\n",
    "unique = []   #Unique-number-list\n",
    "unique_numbers = 0    #Unique-number-counter\n",
    "\n",
    "for i in range (0,len(l)):\n",
    "    not_unique = 0                 #Inizialize the not-unique-parameter at the beginning of every cycle\n",
    "    n = l[i]                       #Fix the number taken from l in the cycle\n",
    "    for j in range(i+1,len(l)):    #Going through all the next numbers in l\n",
    "        if n == l[j]:              #Found out a number equal to the fixed one, so it is not unique\n",
    "            not_unique = 1         #Turn on the not-unique-parameter\n",
    "            break                  #I don't care about the numbers left, so I break the inside cycle\n",
    "    if not_unique == 0:            #If the fixed number didn't encounter itself then the not-unique-parameter never turned on, so it is unique!\n",
    "        unique_numbers += 1        #Then I update the unique-number-counter...\n",
    "        unique.append(n)           #...and put this number in the unique-number-list\n",
    "        \n",
    "print(\"There are\",unique_numbers,\"unique numbers and they are\",unique)"
   ]
  },
  {
   "cell_type": "markdown",
   "metadata": {},
   "source": [
    "6\\. Combination of functions\n",
    "\n",
    "Write two functions - one that returns the square of a number, and one that returns the cube. Now write a third function that returns the number raised to the 6th power using the two previous functions."
   ]
  },
  {
   "cell_type": "code",
   "execution_count": 9,
   "metadata": {},
   "outputs": [
    {
     "name": "stdout",
     "output_type": "stream",
     "text": [
      "To the sixth power:  30840979456.0\n"
     ]
    }
   ],
   "source": [
    "def power2(x):\n",
    "    return x ** 2\n",
    "\n",
    "def power3(x):\n",
    "    return x ** 3\n",
    "\n",
    "def power6(x):\n",
    "    return power2(power3(x))\n",
    "    \n",
    "n=float(input(\"Give me a number: \"))\n",
    "print(\"To the sixth power: \", power6(n))"
   ]
  },
  {
   "cell_type": "markdown",
   "metadata": {},
   "source": [
    "7\\. Cubes\n",
    "\n",
    "Create a list of the cubes of x for x in *[0, 10]* using:\n",
    "\n",
    "a) a for loop\n",
    "\n",
    "b) a list comprehension"
   ]
  },
  {
   "cell_type": "code",
   "execution_count": 10,
   "metadata": {},
   "outputs": [
    {
     "name": "stdout",
     "output_type": "stream",
     "text": [
      "[0, 1, 8, 27, 64, 125, 216, 343, 512, 729]\n",
      "[0, 1, 8, 27, 64, 125, 216, 343, 512, 729]\n"
     ]
    }
   ],
   "source": [
    "cubes = []\n",
    "\n",
    "#Loop method\n",
    "for x in range(0,10):\n",
    "    cubes.append(x ** 3)\n",
    "print(cubes)\n",
    "\n",
    "cubes = []\n",
    "\n",
    "#List comprehension method\n",
    "cubes = [x ** 3 for x in range(0,10)]\n",
    "print(cubes)"
   ]
  },
  {
   "cell_type": "markdown",
   "metadata": {},
   "source": [
    "8\\. Nested list comprehension\n",
    "\n",
    "A Pythagorean triple is an integer solution to the Pythagorean theorem $a^2+b^2=c^2$. The first Pythagorean triple is (3,4,5). Find and put in a tuple all unique Pythagorean triples for the positive integers a, b and c less than 100."
   ]
  },
  {
   "cell_type": "code",
   "execution_count": 11,
   "metadata": {},
   "outputs": [
    {
     "name": "stdout",
     "output_type": "stream",
     "text": [
      "([3, 4, 5.0], [5, 12, 13.0], [7, 24, 25.0], [8, 15, 17.0], [9, 40, 41.0], [11, 60, 61.0], [12, 35, 37.0], [13, 84, 85.0], [16, 63, 65.0], [20, 21, 29.0], [28, 45, 53.0], [33, 56, 65.0], [36, 77, 85.0], [39, 80, 89.0], [48, 55, 73.0], [65, 72, 97.0])\n"
     ]
    }
   ],
   "source": [
    "import math\n",
    "\n",
    "#Function to calculate the greatest common divisor between two numbers\n",
    "def gcd(a, b):\n",
    "    while b != 0:\n",
    "        r = a % b\n",
    "        a = b\n",
    "        b = r\n",
    "    return a\n",
    "\n",
    "triples = ()\n",
    "\n",
    "for a in range(1,99):\n",
    "    for b in range(a,99):\n",
    "        c = math.sqrt((a**2) + (b**2))                        #Evaluating (a^2+b^2)^0.5\n",
    "        if(c - int(c) == 0 and c < 100 and gcd(a, b) == 1):   #We don't want common factor between a and b in order for the triple to be unique\n",
    "            triples += ([a,b,c],)\n",
    "            \n",
    "print(triples)"
   ]
  },
  {
   "cell_type": "markdown",
   "metadata": {},
   "source": [
    "9\\. Normalization\n",
    "\n",
    "Write a function that takes a tuple of numbers and returns it with the entries normalized to one"
   ]
  },
  {
   "cell_type": "code",
   "execution_count": 13,
   "metadata": {},
   "outputs": [
    {
     "name": "stdout",
     "output_type": "stream",
     "text": [
      "(0.06666666666666667, 0.13333333333333333, 0.2, 0.26666666666666666, 0.3333333333333333)\n"
     ]
    }
   ],
   "source": [
    "values = []\n",
    "norm_values = ()\n",
    "total = 0\n",
    "\n",
    "n = int(input(\"How many values? \"))\n",
    "\n",
    "for i in range(0,n):\n",
    "    \n",
    "    x = float(input(\"Value %d: \" %(i+1)))\n",
    "    values.append(x)                            #Put the values in the list\n",
    "    total = total + x                           #Summing the values\n",
    "\n",
    "for i in range(0,n):\n",
    "    \n",
    "    norm_values += (float(values[i] / total),)  #Normalizing the entire list\n",
    "    \n",
    "print(norm_values)"
   ]
  }
 ],
 "metadata": {
  "kernelspec": {
   "display_name": "Python 3 (ipykernel)",
   "language": "python",
   "name": "python3"
  },
  "language_info": {
   "codemirror_mode": {
    "name": "ipython",
    "version": 3
   },
   "file_extension": ".py",
   "mimetype": "text/x-python",
   "name": "python",
   "nbconvert_exporter": "python",
   "pygments_lexer": "ipython3",
   "version": "3.11.5"
  }
 },
 "nbformat": 4,
 "nbformat_minor": 2
}
