{
 "cells": [
  {
   "cell_type": "code",
   "execution_count": 1,
   "metadata": {},
   "outputs": [],
   "source": [
    "import numpy as np\n",
    "import pandas as pd\n",
    "from scipy import linalg as la\n",
    "import matplotlib.pyplot as plt"
   ]
  },
  {
   "cell_type": "markdown",
   "metadata": {},
   "source": [
    "1\\. **PCA on 3D dataset**\n",
    "\n",
    "* Generate a dataset with 3 features each with N entries (N being ${\\cal O}(1000)$). With $N(\\mu,\\sigma)$ the normali distribution with mean $\\mu$ and $\\sigma$  standard deviation, generate the 3 variables $x_{1,2,3}$ such that:\n",
    "    * $x_1$ is distributed as $N(0,1)$\n",
    "    * $x_2$ is distributed as $x_1+N(0,3)$\n",
    "    * $x_3$ is given by $2x_1+x_2$\n",
    "* Find the eigenvectors and eigenvalues of the covariance matrix of the dataset\n",
    "* Find the eigenvectors and eigenvalues using SVD. Check that the two procedures yield to same result\n",
    "* What percent of the total dataset's variability is explained by the principal components? Given how the dataset was constructed, do these make sense? Reduce the dimensionality of the system so that at least 99% of the total variability is retained.\n",
    "* Redefine the data in the basis yielded by the PCA procedure\n",
    "* Plot the data points in the original and the new coordiantes as a set of scatter plots. Your final figure should have 2 rows of 3 plots each, where the columns show the (0,1), (0,2) and (1,2) proejctions.\n"
   ]
  },
  {
   "cell_type": "code",
   "execution_count": 72,
   "metadata": {},
   "outputs": [
    {
     "name": "stdout",
     "output_type": "stream",
     "text": [
      "Covariance matrix:\n",
      " [[ 1.03781518  1.09713744  3.1727678 ]\n",
      " [ 1.09713744 10.11003021 12.30430508]\n",
      " [ 3.1727678  12.30430508 18.64984068]]\n",
      "\n",
      "Eigenvalues:\n",
      " [2.77923969e+01 1.41026914e-15 2.00528921e+00]\n",
      "\n",
      "Eigenvectors:\n",
      " [[-0.11968468 -0.81649658  0.56480874]\n",
      " [-0.57206192 -0.40824829 -0.71139194]\n",
      " [-0.81143129  0.40824829  0.41822554]]\n",
      "\n",
      "SVD yields to the same result\n",
      "\n",
      "Percent of dataset's variability:\n",
      "93.270%\n",
      "6.730%\n",
      "4.733e-15%\n"
     ]
    }
   ],
   "source": [
    "N = 5000\n",
    "\n",
    "x_1 = np.random.normal(loc = 0, scale = 1, size = N)\n",
    "x_2 = x_1 + np.random.normal(loc = 0, scale = 3, size = N)\n",
    "x_3 = (2 * x_1) + x_2\n",
    "\n",
    "data = pd.DataFrame({'x1' : x_1, 'x2' : x_2, 'x3' : x_3})\n",
    "\n",
    "covariance_matrix = np.cov(data.T)\n",
    "print('Covariance matrix:\\n', covariance_matrix)\n",
    "l, V = la.eig(covariance_matrix)\n",
    "print('\\nEigenvalues:\\n', l.real)\n",
    "print('\\nEigenvectors:\\n', V)\n",
    "\n",
    "U, spectrum, Vt = la.svd(data.T)\n",
    "l_svd = (spectrum ** 2)/(N-1)\n",
    "V_svd = U\n",
    "\n",
    "if np.allclose(np.sort(l), np.sort(l_svd), atol = 0.05) == True and np.allclose(np.sort(V), np.sort(V_svd), atol = 0.05) == True:\n",
    "    print(\"\\nSVD yields to the same result\")\n",
    "else:\n",
    "    print(\"\\nSVD doesn't yield to the same result\")\n",
    "    \n",
    "percentual_variabilities = l.real * 100 / np.sum(l.real)\n",
    "print(\"\\nPercent of dataset's variability:\")\n",
    "\n",
    "for v in percentual_variabilities[np.argsort(-percentual_variabilities)]:\n",
    "    if v > 1e-3:\n",
    "        print(f'{v:.3f}%')\n",
    "    else:\n",
    "        print(f'{v:.3e}%')"
   ]
  },
  {
   "cell_type": "markdown",
   "metadata": {},
   "source": [
    "We see one very high percent and the other two that are really small, one in particular is practically zero. This is due to the fact that there is only one indipendent variable, which is $x_1$, and the other two are just derived from $x_1$:\n",
    "\n",
    "* $x_2$ is just $x_1$ plus another gaussian distribution with same mean and different standard deviation, so we expect low variability with respect to this variable\n",
    "* $x_3$ is just a combination of $x_1$ and $x_2$ so its variability should be very very low, which is what we observe ($\\cal o\\left(10^{-15}\\right)$)"
   ]
  },
  {
   "cell_type": "code",
   "execution_count": 77,
   "metadata": {},
   "outputs": [
    {
     "name": "stdout",
     "output_type": "stream",
     "text": [
      "[[10.11003021 12.30430508]\n",
      " [12.30430508 18.64984068]]\n",
      "New covariance matrix:\n",
      " [[10.11003021 12.30430508]\n",
      " [12.30430508 18.64984068]]\n",
      "\n",
      "New eigenvalues:\n",
      " [ 1.35580345 27.40406744]\n",
      "\n",
      "New eigenvectors:\n",
      " [[-0.8148146  -0.57972163]\n",
      " [ 0.57972163 -0.8148146 ]]\n",
      "\n",
      "Percent of dataset's variability:\n",
      "95.286%\n",
      "4.714%\n"
     ]
    }
   ],
   "source": [
    "i_min = np.argmin(l)\n",
    "\n",
    "covariance_matrix_99 = np.copy(covariance_matrix)\n",
    "\n",
    "for i in range(2):\n",
    "    covariance_matrix_99 = np.delete(covariance_matrix_99, i_min, axis = i)\n",
    "    \n",
    "print('New covariance matrix:\\n', covariance_matrix_99)\n",
    "l, V = la.eig(covariance_matrix_99)\n",
    "print('\\nNew eigenvalues:\\n', l.real)\n",
    "print('\\nNew eigenvectors:\\n', V)\n",
    "\n",
    "percentual_variabilities = l.real * 100 / np.sum(l.real)\n",
    "print(\"\\nPercent of dataset's variability:\")\n",
    "\n",
    "for v in percentual_variabilities[np.argsort(-percentual_variabilities)]:\n",
    "    if v > 1e-3:\n",
    "        print(f'{v:.3f}%')\n",
    "    else:\n",
    "        print(f'{v:.3e}%')"
   ]
  },
  {
   "cell_type": "markdown",
   "metadata": {},
   "source": [
    "2\\. **PCA on a nD dataset**\n",
    "\n",
    "Start from the dataset you have genereted in the previous exercise and add uncorrelated random noise. Such noise should be represented by other 10 uncorrelated variables normal distributed, with standar deviation much smaller (say, a factor 50) than those used to generate the $x_1$ and $x_2$.\n",
    "\n",
    "Repeat the PCA procedure and compare the results with what you obtained before"
   ]
  },
  {
   "cell_type": "markdown",
   "metadata": {},
   "source": [
    "3 \\. **Looking at an oscillating spring** (optional)\n",
    "\n",
    "Imagine you have $n$ cameras looking at a spring oscillating along the $x$ axis. Each  camera record the motion of the spring looking at it along a given direction defined by the pair $(\\theta_i, \\phi_i)$, the angles in spherical coordinates. \n",
    "\n",
    "Start from the simulation of the records (say ${\\cal O}(1000)$) of the spring's motion along the x axis, assuming a little random noise affects the measurements along the $y$. Rotate such dataset to emulate the records of each camera.\n",
    "\n",
    "Perform a Principal Component Analysis on the thus obtained dataset, aiming at finding the only one coordinate that really matters.\n"
   ]
  },
  {
   "cell_type": "markdown",
   "metadata": {},
   "source": [
    "4\\. **PCA on the MAGIC dataset** (optional)\n",
    "\n",
    "Perform a PCA on the magic04.data dataset"
   ]
  },
  {
   "cell_type": "code",
   "execution_count": null,
   "metadata": {},
   "outputs": [],
   "source": [
    "# get the dataset and its description on the proper data directory\n",
    "!wget https://archive.ics.uci.edu/ml/machine-learning-databases/magic/magic04.data -P ~/data/\n",
    "!wget https://archive.ics.uci.edu/ml/machine-learning-databases/magic/magic04.names -P ~/data/ "
   ]
  }
 ],
 "metadata": {
  "kernelspec": {
   "display_name": "Python 3 (ipykernel)",
   "language": "python",
   "name": "python3"
  },
  "language_info": {
   "codemirror_mode": {
    "name": "ipython",
    "version": 3
   },
   "file_extension": ".py",
   "mimetype": "text/x-python",
   "name": "python",
   "nbconvert_exporter": "python",
   "pygments_lexer": "ipython3",
   "version": "3.11.5"
  }
 },
 "nbformat": 4,
 "nbformat_minor": 2
}
