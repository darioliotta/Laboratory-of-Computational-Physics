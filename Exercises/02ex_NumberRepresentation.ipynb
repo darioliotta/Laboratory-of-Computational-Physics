{
 "cells": [
  {
   "cell_type": "code",
   "execution_count": 1,
   "metadata": {},
   "outputs": [],
   "source": [
    "import random\n",
    "import sys\n",
    "import math\n",
    "import time"
   ]
  },
  {
   "cell_type": "markdown",
   "metadata": {},
   "source": [
    "1\\. Write a function that converts number representation, bin<->dec<->hex. (Clearly using the corresponding python built-in functions is not fair..)"
   ]
  },
  {
   "cell_type": "markdown",
   "metadata": {},
   "source": [
    "The idea is that we first write four functions:\n",
    "\n",
    "* bin $\\to$ dec\n",
    "* dec $\\to$ bin\n",
    "* hex $\\to$ dec\n",
    "* dec $\\to$ hex\n",
    "\n",
    "Thus, we can define a function that uses all the ones above to convert between the three bases."
   ]
  },
  {
   "cell_type": "markdown",
   "metadata": {},
   "source": [
    "To convert a binary number in decimal form we consider it as a succession $b_i$ of its single digits, which can only be $0$ or $1$. If the binary number contains $n$ digits, the same number in decimal form will be\n",
    "\n",
    "$$N_{10}=\\sum_{i=1}^nb_i2^{n-i}$$"
   ]
  },
  {
   "cell_type": "code",
   "execution_count": 2,
   "metadata": {},
   "outputs": [],
   "source": [
    "#Converter from binary to decimal\n",
    "def bin_to_dec(n):\n",
    "    dec = 0              #Inizialize the sum\n",
    "    e = len(str(n)) - 1  #Inizilize the exponent\n",
    "    \n",
    "    for digit in str(n):\n",
    "        dec += int(digit) * (2**int(e))\n",
    "        e -= 1\n",
    "        \n",
    "    return dec"
   ]
  },
  {
   "cell_type": "markdown",
   "metadata": {},
   "source": [
    "To convert a decimal number in binary we need to divide it by $2$; there will be two possibilities: either the remainder will be $0$ (since the number is pair) or it will be $1$ (since the number is odd). We 'store' this digit and proceed with the same process considering the integer quotient of every iteration: we place every remainder from the right to the left until we get a quotient less than $1$."
   ]
  },
  {
   "cell_type": "code",
   "execution_count": 4,
   "metadata": {},
   "outputs": [],
   "source": [
    "#Converter from decimal to binary\n",
    "def dec_to_bin(n):\n",
    "    bin = \"\"  #Inizialize the string that will contain the binary number\n",
    "    \n",
    "    if int(n) == 0:  #Extreme case\n",
    "        return \"0\"\n",
    "    else:\n",
    "        while int(n) > 0:\n",
    "            bin = str(int(n) % 2) + bin  #It's important that the new digit is placed before all the previous computed\n",
    "            n = int(int(n) // 2)\n",
    "        return bin"
   ]
  },
  {
   "cell_type": "markdown",
   "metadata": {},
   "source": [
    "To convert a hexadecimal number in decimal we have to consider the same algorithm we made for dec $\\to$ bin. The only difference is that the hexadecimal number can contain letters as well as numbers, so we have to convert those letters to their respective values ('A' for $10$, 'B' for $11$, ...)."
   ]
  },
  {
   "cell_type": "code",
   "execution_count": 5,
   "metadata": {},
   "outputs": [],
   "source": [
    "#Converter from hexadecimal to decimal\n",
    "def hex_to_dec(n):\n",
    "    dec = 0\n",
    "    e = len(str(n)) - 1\n",
    "    \n",
    "    for digit in str(n):\n",
    "        if digit.isdigit():   #isdigit() returns True if the string is a number\n",
    "            dec += int(digit) * (16**int(e))\n",
    "        elif digit.upper() in 'ABCDEF':  #With upper() we make the function case insensitive\n",
    "            dec += (ord(digit.upper()) - ord('A') + 10) * (16**int(e))   #ord() returns the ASCII code of the char\n",
    "        else:\n",
    "            raise ValueError(\"Some characters in the number are not allowed.\")  #Error case ('raise' break the function and prints the string)\n",
    "        \n",
    "        e -= 1\n",
    "        \n",
    "    return dec"
   ]
  },
  {
   "cell_type": "markdown",
   "metadata": {},
   "source": [
    "Same goes for the conversion from decimal to hexadecimal and the function dec $\\to$ bin. This time, for every remaining of the division between $10$ and $15$ we need to convert it to the respective letter: for this purpose we creater a dictionary that associates the correct digit to the remaining."
   ]
  },
  {
   "cell_type": "code",
   "execution_count": 6,
   "metadata": {},
   "outputs": [],
   "source": [
    "#Converter from decimal to hexadecimal\n",
    "def dec_to_hex(n):\n",
    "    #Creating the conversion dictionary\n",
    "    hexadecimal = {i : str(i) for i in range(10)}\n",
    "    for i, character in zip(range(10, 16), 'ABCDEF'):\n",
    "        hexadecimal[i] = character\n",
    "        \n",
    "    hex = \"\"  #Inizialize the string that will contain the hexodecimal number\n",
    "    \n",
    "    if int(n) == 0:  #Extreme case\n",
    "        return \"0\"\n",
    "    else:\n",
    "        while int(n) > 0:\n",
    "            h = int(int(n) % 16)\n",
    "            hex = hexadecimal[h] + hex  #Conversion and update of the hexodecimal number\n",
    "            n = int(int(n) // 16)\n",
    "        return hex"
   ]
  },
  {
   "cell_type": "markdown",
   "metadata": {},
   "source": [
    "Now we can write the complete conversion function:"
   ]
  },
  {
   "cell_type": "code",
   "execution_count": 7,
   "metadata": {},
   "outputs": [],
   "source": [
    "#Converter throughout the three bases\n",
    "def conversion(n, base_from, base_to):\n",
    "    if int(base_from) == 2:\n",
    "        if int(base_to) == 10:\n",
    "            conv_n = bin_to_dec(n)\n",
    "        elif int(base_to) == 16:\n",
    "            n = bin_to_dec(n)\n",
    "            conv_n = dec_to_hex(n)\n",
    "            \n",
    "    elif int(base_from) == 10:\n",
    "        if int(base_to) == 2:\n",
    "            conv_n = dec_to_bin(n)\n",
    "        elif int(base_to) == 16:\n",
    "            conv_n = dec_to_hex(n)\n",
    "            \n",
    "    elif int(base_from) == 16:\n",
    "        if int(base_to) == 2:\n",
    "            n = hex_to_dec(n)\n",
    "            conv_n = dec_to_bin(n)\n",
    "        elif int(base_to) == 10:\n",
    "            conv_n = hex_to_dec(n)\n",
    "            \n",
    "    return conv_n"
   ]
  },
  {
   "cell_type": "markdown",
   "metadata": {},
   "source": [
    "To test it:"
   ]
  },
  {
   "cell_type": "code",
   "execution_count": 17,
   "metadata": {},
   "outputs": [
    {
     "name": "stdout",
     "output_type": "stream",
     "text": [
      "The number A113 in base 16 is 1010000100010011 in base 2\n"
     ]
    }
   ],
   "source": [
    "#Function that asks the user the base\n",
    "def ask_the_base(s):\n",
    "    base = 0\n",
    "    i = 0  #Index turned on when the user writes a wrong base\n",
    "    \n",
    "    while(base != 2 and base != 10 and base != 16):  #Everything except 2, 10 and 16 is considered wrong\n",
    "        if(i == 1):\n",
    "            print(\"I said 2, 10 and 16, nothing else.\")\n",
    "        base = int(input(s))\n",
    "        i = 1  #Turn on the index\n",
    "        \n",
    "    return base\n",
    "\n",
    "base_from = ask_the_base(\"Base of the number: \")\n",
    "base_to = ask_the_base(\"Base you wish to convert it to: \")\n",
    "\n",
    "if base_from == base_to:\n",
    "    raise IndexError('The bases given in input are the same.')\n",
    "    \n",
    "n = input(\"Your number: \")\n",
    "conv_n = conversion(n, base_from, base_to)\n",
    "\n",
    "print(f\"The number {n} in base {base_from} is {conv_n} in base {base_to}\")"
   ]
  },
  {
   "cell_type": "markdown",
   "metadata": {},
   "source": [
    "2\\. Write a function that converts a 32 bit word into a single precision floating point (i.e. interprets the various bits as sign, mantissa and exponent)"
   ]
  },
  {
   "cell_type": "code",
   "execution_count": 23,
   "metadata": {},
   "outputs": [
    {
     "name": "stdout",
     "output_type": "stream",
     "text": [
      "sign=0, exponent=10010011, mantissa=11111100001100011010111\n",
      "2081562.875\n"
     ]
    }
   ],
   "source": [
    "bias = 127 #I define the standard bias for a single-precision floating point\n",
    "\n",
    "#Function that generates a random binary number of 32 bits as a string\n",
    "def generating_bin_number():\n",
    "    s = \"\"\n",
    "    \n",
    "    for _ in range(32):\n",
    "        bit = random.choice('01')\n",
    "        s += bit\n",
    "    \n",
    "    return s\n",
    "\n",
    "#Function that evaluates the fractional part of the mantissa\n",
    "def evaluating_f(s):\n",
    "    f = 0\n",
    "    \n",
    "    if len(s) != 23:\n",
    "        raise ValueError(\"The mantissa doesn't have the correct lenght.\")\n",
    "    else:\n",
    "        for i in range(len(s)):\n",
    "            f += int(s[i]) * 2**(-(i + 1))\n",
    "        return f\n",
    "\n",
    "n = generating_bin_number() #Generating the 32-bit binary word\n",
    "\n",
    "sign = n[0]\n",
    "exponent = n[1:9]\n",
    "mantissa = n[9:]\n",
    "\n",
    "f = evaluating_f(mantissa) #Evaluating f\n",
    "e = int(exponent, 2)       #Evaluating the exponent part by taking the integer in base 2 of the equivalent part in the binary word\n",
    "\n",
    "conv_n = (1 if sign == '0' else -1) * (1 + f) * (2 ** (e - bias))\n",
    "\n",
    "print(f\"sign={sign}, exponent={exponent}, mantissa={mantissa}\")\n",
    "print(conv_n)"
   ]
  },
  {
   "cell_type": "markdown",
   "metadata": {},
   "source": [
    "3\\. Write a program to determine the underflow and overflow limits (within a factor of 2) for python on your computer. \n",
    "\n",
    "**Tips**: define two variables inizialized to 1 and halve/double them enough time to exceed the under/over-flow limits  "
   ]
  },
  {
   "cell_type": "code",
   "execution_count": 24,
   "metadata": {},
   "outputs": [
    {
     "name": "stdout",
     "output_type": "stream",
     "text": [
      "Underflow Limit (smallest positive value): 5e-324\n",
      "Overflow Limit (largest positive value): 8.98846567431158e+307\n"
     ]
    }
   ],
   "source": [
    "#Initialize variables\n",
    "underflow_limit = 1.0\n",
    "overflow_limit = 1.0\n",
    "\n",
    "#Determine the underflow limit (smallest positive value)\n",
    "while underflow_limit / 2 > 0:\n",
    "    underflow_limit /= 2\n",
    "\n",
    "#Determine the overflow limit (largest positive value)\n",
    "while overflow_limit * 2 < sys.float_info.max:\n",
    "    overflow_limit *= 2\n",
    "\n",
    "print(\"Underflow Limit (smallest positive value):\", underflow_limit)\n",
    "print(\"Overflow Limit (largest positive value):\", overflow_limit)"
   ]
  },
  {
   "cell_type": "markdown",
   "metadata": {},
   "source": [
    "4\\. Write a program to determine the machine precision\n",
    "\n",
    "**Tips**: define a new variable by adding a smaller and smaller value (proceeding similarly to prob. 2) to an original variable and check the point where the two are the same "
   ]
  },
  {
   "cell_type": "code",
   "execution_count": 7,
   "metadata": {},
   "outputs": [
    {
     "name": "stdout",
     "output_type": "stream",
     "text": [
      "Precision is up to the 15th decimal digit\n"
     ]
    }
   ],
   "source": [
    "counter = 0  #Counting the number of while cycles\n",
    "i = 1        #Starting from the unit precision\n",
    "\n",
    "n = 1.0      #Inizialize the value to an arbitrary floating number\n",
    "\n",
    "while True:\n",
    "    new_n = n + (1 / i)   #Summing the same number just with a difference up to the 10^(-(i-1)) digit\n",
    "    \n",
    "    if (new_n == n):      #When they are the same we just stop the cycle\n",
    "        break\n",
    "    else:\n",
    "        counter += 1      #Counting\n",
    "        i *= 10           #Add precision\n",
    "        n = new_n         #Restarting from the previous precision we verified it's not the one of the machine\n",
    "        \n",
    "print(f\"Precision is up to the {counter-1}th decimal digit\")"
   ]
  },
  {
   "cell_type": "markdown",
   "metadata": {},
   "source": [
    "5\\. Write a function that takes in input three parameters $a$, $b$ and $c$ and prints out the two solutions to the quadratic equation $ax^2+bx+c=0$ using the standard formula:\n",
    "$$\n",
    "x=\\frac{-b\\pm\\sqrt{b^2-4ac}}{2a}\n",
    "$$\n",
    "\n",
    "(a) use the program to compute the solution for $a=0.001$, $b=1000$ and $c=0.001$\n",
    "\n",
    "(b) re-express the standard solution formula by multiplying top and bottom by $-b\\mp\\sqrt{b^2-4ac}$ and again find the solution for $a=0.001$, $b=1000$ and $c=0.001$. How does it compare with what previously obtained? Why?\n",
    "\n",
    "(c) write a function that compute the roots of a quadratic equation accurately in all cases"
   ]
  },
  {
   "cell_type": "markdown",
   "metadata": {},
   "source": [
    "If we multiply top and bottom by $-b\\pm\\sqrt{b^2-4ac}$ we get\n",
    "\n",
    "$$x=\\frac{-b\\pm\\sqrt{b^2-4ac}}{2a}\\cdot\\frac{-b\\mp\\sqrt{b^2-4ac}}{-b\\mp\\sqrt{b^2-4ac}}=\\frac{\\cancel{b^2}-\\cancel{b^2}+4ac}{2a\\left(-b\\mp\\sqrt{b^2-4ac}\\right)}=\\frac{2c}{-b\\mp\\sqrt{b^2-4ac}}$$"
   ]
  },
  {
   "cell_type": "code",
   "execution_count": 27,
   "metadata": {},
   "outputs": [
    {
     "name": "stdout",
     "output_type": "stream",
     "text": [
      "a) Solution with plus = -9.999894245993346e-07, solution with minus = -999999.999999\n",
      "Accuracy of the solution with plus = 1.0575401665491313e-08\n",
      "Accuracy of the solution with minus = 7.247924804689582e-08\n",
      "b) Solution with plus = -1.000000000001e-06, solution with minus = -1000010.5755125057\n",
      "Accuracy of the solution with plus = 0.0\n",
      "Accuracy of the solution with minus = 10575.62534720993\n"
     ]
    }
   ],
   "source": [
    "def quadratic_formula_solver(a, b, c):\n",
    "    delta = math.sqrt((b*b) - (4*a*c))\n",
    "    x_plus = ((-b) + delta) / (2*a)\n",
    "    x_minus = ((-b) - delta) / (2*a)\n",
    "    return x_plus, x_minus\n",
    "\n",
    "def quadratic_formula_solver_version_2(a, b, c):\n",
    "    delta = math.sqrt((b*b) - (4*a*c))\n",
    "    x_plus = (2*c) / ((-b) - delta)\n",
    "    x_minus = (2*c) / ((-b) + delta)\n",
    "    return x_plus, x_minus\n",
    "\n",
    "a = 0.001\n",
    "b = 1000\n",
    "c = 0.001\n",
    "\n",
    "x_plus, x_minus = quadratic_formula_solver(a, b, c)\n",
    "print(f\"a) Solution with plus = {x_plus}, solution with minus = {x_minus}\")\n",
    "\n",
    "#Let's test the accuracy of these solutions\n",
    "accuracy_plus = a * (x_plus**2) + b * x_plus + c\n",
    "accuracy_minus = a * (x_minus**2) + b * x_minus + c\n",
    "print(f\"Accuracy of the solution with plus = {accuracy_plus}\")\n",
    "print(f\"Accuracy of the solution with minus = {accuracy_minus}\")\n",
    "\n",
    "x_plus, x_minus = quadratic_formula_solver_version_2(a, b, c)\n",
    "print(f\"b) Solution with plus = {x_plus}, solution with minus = {x_minus}\")\n",
    "\n",
    "#Let's test the accuracy of these solutions\n",
    "accuracy_plus = a * (x_plus**2) + b * x_plus + c\n",
    "accuracy_minus = a * (x_minus**2) + b * x_minus + c\n",
    "print(f\"Accuracy of the solution with plus = {accuracy_plus}\")\n",
    "print(f\"Accuracy of the solution with minus = {accuracy_minus}\")"
   ]
  },
  {
   "cell_type": "markdown",
   "metadata": {},
   "source": [
    "We note that the coefficients $a$ and $c$ are very small compared to the coefficient $b$ (we're talking about six orders of magnitude), hence the discriminant $\\Delta=b^2-4ac$ is basically $b^2$ so we have $\\sqrt{\\Delta}\\simeq b$.\n",
    "\n",
    "In case a) we've got:\n",
    "\n",
    "\\begin{equation*}\n",
    "    x^{(+)}=\\frac{-b+\\sqrt{\\Delta}}{2a}\\simeq\\frac{10^{-6}}{2a} \\hspace{2.5cm} x^{(-)}=\\frac{-b-\\sqrt{\\Delta}}{2a}\\simeq\\frac{2b}{2a}=\\frac{b}{a}\n",
    "\\end{equation*}\n",
    "\n",
    "So in $x^{(-)}$ there is a dominant term in the fraction (the numerator $b$) so we can consider it \"stable\"; on the contrary, in $x^{(+)}$ the orders of magnitude are very much similar, thus the division leads to a more \"unstable\" result.\n",
    "\n",
    "In case b) we've got:\n",
    "\n",
    "\\begin{equation*}\n",
    "    x^{(+)}=\\frac{2c}{-b-\\sqrt{\\Delta}}\\simeq\\frac{2c}{2b}=\\frac{c}{b} \\hspace{2.5cm} x^{(-)}=\\frac{2c}{-b+\\sqrt{\\Delta}}\\simeq\\frac{2c}{10^{-6}}\n",
    "\\end{equation*}\n",
    "\n",
    "For the same reasons as above, $x^{(+)}$ is the stable result while $x^{(-)}$ is the unstable one.\n",
    "\n",
    "We can conclude that the most accurate function computes $x^{(+)}$ as in case b) and $x^{(-)}$ as in case a)."
   ]
  },
  {
   "cell_type": "code",
   "execution_count": 28,
   "metadata": {},
   "outputs": [
    {
     "name": "stdout",
     "output_type": "stream",
     "text": [
      "Here we have the most accurate solutions:\n",
      "a) Solution with +=-1.000000000001e-06, solution with -=-999999.999999\n"
     ]
    }
   ],
   "source": [
    "def best_quadratic_formula_solver(a, b, c):\n",
    "    delta = math.sqrt((b*b) - (4*a*c))\n",
    "    x_plus = (2*c) / ((-b) - delta)\n",
    "    x_minus = ((-b) - delta) / (2*a)\n",
    "    return x_plus, x_minus\n",
    "\n",
    "x_plus, x_minus = best_quadratic_formula_solver(a, b, c)\n",
    "print(\"Here we have the most accurate solutions:\")\n",
    "print(f\"a) Solution with +={x_plus}, solution with -={x_minus}\")"
   ]
  },
  {
   "cell_type": "markdown",
   "metadata": {},
   "source": [
    "6\\. Write a program that implements the function $f(x)=x(x−1)$\n",
    "\n",
    "(a) Calculate the derivative of the function at the point $x = 1$ using the derivative definition:\n",
    "\n",
    "$$\n",
    "\\frac{{\\rm d}f}{{\\rm d}x} = \\lim_{\\delta\\to0} \\frac{f(x+\\delta)-f(x)}{\\delta}\n",
    "$$\n",
    "\n",
    "with $\\delta = 10^{−2}$. Calculate the true value of the same derivative analytically and compare with the answer your program gives. The two will not agree perfectly. Why not?\n",
    "\n",
    "(b) Repeat the calculation for $\\delta = 10^{−4}, 10^{−6}, 10^{−8}, 10^{−10}, 10^{−12}$ and $10^{−14}$. How does the accuracy scales with $\\delta$?"
   ]
  },
  {
   "cell_type": "code",
   "execution_count": 29,
   "metadata": {},
   "outputs": [
    {
     "name": "stdout",
     "output_type": "stream",
     "text": [
      "The analytical solution is: 1.0\n",
      "The derivative definition gives us: 1.010000000000001\n"
     ]
    }
   ],
   "source": [
    "def function(x):\n",
    "    return x * (x-1)\n",
    "\n",
    "def derivative(x):\n",
    "    return (2 * x) - 1\n",
    "\n",
    "def numerical_derivative(f, x, delta):\n",
    "    return (f(x + delta) - f(x)) / delta\n",
    "\n",
    "point = 1.0\n",
    "delta = 0.01\n",
    "\n",
    "print(f\"The analytical solution is: {derivative(point)}\")\n",
    "print(f\"The derivative definition gives us: {numerical_derivative(function, point, delta)}\")"
   ]
  },
  {
   "cell_type": "markdown",
   "metadata": {},
   "source": [
    "The latter result is just an approximation of the true derivative, and we expect that the more delta becomes smaller the more accurate this approximation will be."
   ]
  },
  {
   "cell_type": "code",
   "execution_count": 30,
   "metadata": {},
   "outputs": [
    {
     "name": "stdout",
     "output_type": "stream",
     "text": [
      "Derivative definition with delta 10^(-4): 1.0000999999998899\n",
      "Accuracy: -9.999999988985486e-05\n",
      "\n",
      "Derivative definition with delta 10^(-6): 1.0000009999177333\n",
      "Accuracy: -9.99917733279787e-07\n",
      "\n",
      "Derivative definition with delta 10^(-8): 1.0000000039225287\n",
      "Accuracy: -3.922528746258536e-09\n",
      "\n",
      "Derivative definition with delta 10^(-10): 1.000000082840371\n",
      "Accuracy: -8.284037100736441e-08\n",
      "\n",
      "Derivative definition with delta 10^(-12): 1.0000889005833413\n",
      "Accuracy: -8.890058334132256e-05\n",
      "\n",
      "Derivative definition with delta 10^(-14): 0.9992007221626509\n",
      "Accuracy: 0.0007992778373491216\n",
      "\n"
     ]
    }
   ],
   "source": [
    "deltas = [(-2 * i) for i in range(2, 8)]\n",
    "\n",
    "for e in deltas:\n",
    "    print(f\"Derivative definition with delta 10^({e}): {numerical_derivative(function, point, 10**e)}\")\n",
    "    print(f\"Accuracy: {point - numerical_derivative(function, point, 10**e)}\\n\")  #Difference between x=1 and the approximately evaluated value"
   ]
  },
  {
   "cell_type": "markdown",
   "metadata": {},
   "source": [
    "The behaviour we predicted is not the one we observe. The reason is that very small delta values may lead to numerical instability due to limited precision in floating-point arithmetic of the machine, so we experiment a tradeoff between precision of the algorithm and numerical stability of the calculator."
   ]
  },
  {
   "cell_type": "markdown",
   "metadata": {},
   "source": [
    "7\\. Consider the integral of the semicircle of radius 1:\n",
    "$$\n",
    "I=\\int_{-1}^{1} \\sqrt{1-x^2} {\\rm d}x\n",
    "$$\n",
    "which it's known to be $I=\\frac{\\pi}{2}=1.57079632679...$.\n",
    "Alternatively we can use the Riemann definition of the integral:\n",
    "$$\n",
    "I=\\lim_{N\\to\\infty} \\sum_{k=1}^{N} h y_k \n",
    "$$\n",
    "\n",
    "with $h=2/N$ the width of each of the $N$ slices the domain is divided into and where\n",
    "$y_k$ is the value of the function at the $k-$th slice.\n",
    "\n",
    "(a) Write a programe to compute the integral with $N=100$. How does the result compares to the true value?\n",
    "\n",
    "(b) How much can $N$ be increased if the computation needs to be run in less than a second? What is the gain in running it for 1 minute? \n"
   ]
  },
  {
   "cell_type": "code",
   "execution_count": 32,
   "metadata": {},
   "outputs": [
    {
     "name": "stdout",
     "output_type": "stream",
     "text": [
      "Approximation with N = 100: 1.5691342555492505\n"
     ]
    }
   ],
   "source": [
    "def function(x):\n",
    "    return math.sqrt(1 - (x**2))\n",
    "\n",
    "#Function that evaluates the riemann integral given the function, the interval and the steps\n",
    "def riemann_integral(f, lower, upper, N):\n",
    "    if lower > upper:    #The lower bound can't be larger than the upper bound, so we treat this case as an error\n",
    "        raise IndexError(\"The lower bound can't be larger than the upper bound.\")\n",
    "    else:\n",
    "        interval = upper - lower\n",
    "        h = interval / N\n",
    "        \n",
    "        integral = 0              #Inizializing the integral value\n",
    "        \n",
    "        for i in range (0,N):\n",
    "            x = lower + (i * h)\n",
    "            integral += h * f(x)  #Updating the count\n",
    "            \n",
    "        return integral\n",
    "    \n",
    "print(\"Approximation with N = 100:\", riemann_integral(function, -1, 1, 100))"
   ]
  },
  {
   "cell_type": "markdown",
   "metadata": {},
   "source": [
    "With $N=100$ the estimated value agrees with the analytical one up to the second decimal digit."
   ]
  },
  {
   "cell_type": "code",
   "execution_count": 33,
   "metadata": {},
   "outputs": [],
   "source": [
    "#Function that evaluate the running time of the algorithm \n",
    "def measure_execution_time(N):\n",
    "    start_time = time.time()                #Starting time\n",
    "    riemann_integral(function, -1, 1, N)    #Running the algorithm\n",
    "    end_time = time.time()                  #Ending time\n",
    "    return end_time - start_time            #Returning the difference"
   ]
  },
  {
   "cell_type": "markdown",
   "metadata": {},
   "source": [
    "To find the larger $N$ for which the computation runs for less than a second we can first add a very large number to N, so that when it exceeds the 1 second limit we stop the cycle, remove the last add, reduce of one order of magnitude the adding part to N and repeat this process until we just add 1 to N to get the best estimate of the N that stays in the 1 second limit."
   ]
  },
  {
   "cell_type": "code",
   "execution_count": 34,
   "metadata": {},
   "outputs": [
    {
     "name": "stdout",
     "output_type": "stream",
     "text": [
      "The larger N for which the computation needs less than one second to be run is N = 3582923\n"
     ]
    }
   ],
   "source": [
    "time_limit = 1.0    #Fixing the 1 second limit\n",
    "N = 1               #Inizializing N arbitrarily to 1\n",
    "s = 1000000         #Inizializing the adding part\n",
    "\n",
    "while s > 0.1:\n",
    "    while measure_execution_time(N) < time_limit:\n",
    "        N += int(s)\n",
    "    N -= int(s)\n",
    "    s /= 10\n",
    "    \n",
    "print(f\"The larger N for which the computation needs less than one second to be run is N = {N}\")"
   ]
  },
  {
   "cell_type": "markdown",
   "metadata": {},
   "source": [
    "I just verified that with $N=225\\hspace{0.06cm}000\\hspace{0.06cm} 000$ the computation runs for one minute more or less."
   ]
  },
  {
   "cell_type": "code",
   "execution_count": 35,
   "metadata": {},
   "outputs": [
    {
     "name": "stdout",
     "output_type": "stream",
     "text": [
      "With one minute run the approximation gives us: 1.5707963267936582\n",
      "The approximation is in agreement with the theoretical value up to the 12th decimal digit\n"
     ]
    }
   ],
   "source": [
    "N = 225000000\n",
    "\n",
    "#print(f\"time: {measure_execution_time(N)}\")   #<-----Just to verify it takes approximately one minute to run\n",
    "\n",
    "approx_solution = riemann_integral(function, -1, 1, N)   #Evaluating the approximation\n",
    "print(f\"With one minute run the approximation gives us: {approx_solution}\")\n",
    "\n",
    "exact_solution = [f'{i}' for i in str(math.pi / 2)[:18]]  #Saving pi/2 in a string up to the 16th deciaml digit (the first two digits are just '1.')\n",
    "approx_solution = str(approx_solution)                    #Casting the approximate solution to a string\n",
    "\n",
    "#Checking up to when the two string are the same\n",
    "for i in range(len(exact_solution)):\n",
    "    if exact_solution[i] != approx_solution[i]:\n",
    "        break\n",
    "\n",
    "#They will have the same i-1 numbers of decimal digit, because the iterator i starts from 0 so there will be i+1 total digits from which we need to remove the first two (the unit ('1') and the point ('.'))\n",
    "print(f\"The approximation is in agreement with the theoretical value up to the {i-1}th decimal digit\")\n"
   ]
  }
 ],
 "metadata": {
  "kernelspec": {
   "display_name": "Python 3 (ipykernel)",
   "language": "python",
   "name": "python3"
  },
  "language_info": {
   "codemirror_mode": {
    "name": "ipython",
    "version": 3
   },
   "file_extension": ".py",
   "mimetype": "text/x-python",
   "name": "python",
   "nbconvert_exporter": "python",
   "pygments_lexer": "ipython3",
   "version": "3.11.5"
  }
 },
 "nbformat": 4,
 "nbformat_minor": 2
}
