{
 "cells": [
  {
   "cell_type": "markdown",
   "metadata": {},
   "source": [
    "1\\. Write a function that converts number representation, bin<->dec<->hex. (Clearly using the corresponding python built-in functions is not fair..)"
   ]
  },
  {
   "cell_type": "code",
   "execution_count": 1,
   "metadata": {},
   "outputs": [
    {
     "name": "stdout",
     "output_type": "stream",
     "text": [
      "I said 2, 10 and 16, nothing else.\n",
      "I said 2, 10 and 16, nothing else.\n",
      "The number 111010100010110 in base 2 is 29974 in base 10\n"
     ]
    }
   ],
   "source": [
    "#Converter from binary to decimal\n",
    "def bin_to_dec(n):\n",
    "    dec = 0\n",
    "    e = len(str(n)) - 1\n",
    "    for digit in str(n):\n",
    "        dec = dec + (int(digit) * (2**int(e)))\n",
    "        e = e-1\n",
    "    return dec\n",
    "\n",
    "#Converter from decimal to binary\n",
    "def dec_to_bin(n):\n",
    "    bin = \"\"\n",
    "    if n == 0:\n",
    "        return \"0\"\n",
    "    while int(n) > 0:\n",
    "        bin = str(int(n) % 2) + bin\n",
    "        n = int(int(n) // 2)\n",
    "    return bin\n",
    "\n",
    "#Converter from hexadecimal to decimal\n",
    "def hex_to_dec(n):\n",
    "    dec = 0\n",
    "    e = len(str(n)) - 1\n",
    "    for digit in str(n):\n",
    "        if digit == 'A':\n",
    "            digit = 10\n",
    "        elif digit == 'B':\n",
    "            digit = 11\n",
    "        elif digit == 'C':\n",
    "            digit = 12\n",
    "        elif digit == 'D':\n",
    "            digit = 13\n",
    "        elif digit == 'E':\n",
    "            digit = 14\n",
    "        elif digit == 'F':\n",
    "            digit = 15\n",
    "        dec = dec + (int(digit) * (16**int(e)))\n",
    "        e = e-1\n",
    "    return dec\n",
    "\n",
    "#Converter from decimal to hexadecimal\n",
    "def dec_to_hex(n):\n",
    "    hexadecimal = {0: '0', 1: '1', 2: '2', 3: '3', 4: '4', 5: '5', 6: '6', 7: '7', 8: '8', 9: '9', 10: 'A', 11: 'B', 12: 'C', 13: 'D', 14: 'E', 15: 'F'}\n",
    "    hex = \"\"\n",
    "    if n == 0:\n",
    "        return \"0\"\n",
    "    while int(n) > 0:\n",
    "        r = int(int(n) % 16)\n",
    "        hex = hexadecimal[r] + hex\n",
    "        n = int(int(n) // 16)\n",
    "    return hex\n",
    "\n",
    "#Converter throughout the threee bases\n",
    "def conversion(n,base_from,base_to):\n",
    "    if int(base_from) == 2:\n",
    "        if int(base_to) == 10:\n",
    "            conv_n = bin_to_dec(n)\n",
    "        elif int(base_to) == 16:\n",
    "            n = bin_to_dec(n)\n",
    "            conv_n = dec_to_hex(n)\n",
    "    elif int(base_from) == 10:\n",
    "        if int(base_to) == 2:\n",
    "            conv_n = dec_to_bin(n)\n",
    "        elif int(base_to) == 16:\n",
    "            conv_n = dec_to_hex(n)\n",
    "    elif int(base_from) == 16:\n",
    "        if int(base_to) == 2:\n",
    "            n = hex_to_dec(n)\n",
    "            conv_n = dec_to_bin(n)\n",
    "        elif int(base_to) == 10:\n",
    "            conv_n = hex_to_dec(n)\n",
    "            \n",
    "    return conv_n\n",
    "\n",
    "#Function that asks the user for the base\n",
    "def ask_the_base(s):\n",
    "    base = 0\n",
    "    i = 0 #Index turned on when the user writes a wrong base\n",
    "    \n",
    "    while(base != 2 and base != 10 and base != 16): #Everything except 2, 10 and 16 is considered wrong\n",
    "        if(i == 1):\n",
    "            print(\"I said 2, 10 and 16, nothing else.\")\n",
    "        base = int(input(s))\n",
    "        i = 1 #Turn on the index\n",
    "        \n",
    "    return base\n",
    "\n",
    "base_from = ask_the_base(\"Base of the number: \")\n",
    "base_to = ask_the_base(\"Base you wish to convert it to: \")\n",
    "    \n",
    "n = int(input(\"Your number: \"))\n",
    "conv_n = conversion(n, base_from, base_to)\n",
    "\n",
    "print(f\"The number {n} in base {base_from} is {conv_n} in base {base_to}\")"
   ]
  },
  {
   "cell_type": "markdown",
   "metadata": {},
   "source": [
    "2\\. Write a function that converts a 32 bit word into a single precision floating point (i.e. interprets the various bits as sign, mantissa and exponent)"
   ]
  },
  {
   "cell_type": "code",
   "execution_count": 8,
   "metadata": {},
   "outputs": [
    {
     "name": "stdout",
     "output_type": "stream",
     "text": [
      "sign=0, exponent=00110011, mantissa=11110101100001001000000\n",
      "2.5927851092471776e-23\n"
     ]
    }
   ],
   "source": [
    "import random\n",
    "\n",
    "bias = 127 #I define the standard bias for a single-precision floating point\n",
    "\n",
    "#Function that generates a random binary number of 32 bits as a string\n",
    "def generating_bin_number():\n",
    "    s = \"\"\n",
    "    \n",
    "    for _ in range(32):\n",
    "        bit = random.choice('01')\n",
    "        s += bit\n",
    "    \n",
    "    return s\n",
    "\n",
    "#Function that evaluates the fractional part of the mantissa\n",
    "def evaluating_f(s):\n",
    "    f = 0\n",
    "    \n",
    "    if len(s) != 23:\n",
    "        return -1\n",
    "    else:\n",
    "        for i in range(len(s)):\n",
    "            f = f + int(s[i]) * 2**(-(i + 1))\n",
    "        return f\n",
    "\n",
    "n = generating_bin_number() #Generating the 32-bit binary word\n",
    "\n",
    "sign = n[0]\n",
    "exponent = n[1:9]\n",
    "mantissa = n[9:]\n",
    "\n",
    "f = evaluating_f(mantissa) #Evaluating f\n",
    "e = int(exponent, 2)       #Evaluating the exponent part by taking the integer in base 2 of the equivalent part in the binary word\n",
    "\n",
    "conv_n = (1 if sign == '0' else -1) * (1 + f) * (2 ** (e - bias))\n",
    "\n",
    "print(f\"sign={sign}, exponent={exponent}, mantissa={mantissa}\")\n",
    "print(conv_n)"
   ]
  },
  {
   "cell_type": "markdown",
   "metadata": {},
   "source": [
    "3\\. Write a program to determine the underflow and overflow limits (within a factor of 2) for python on your computer. \n",
    "\n",
    "**Tips**: define two variables inizialized to 1 and halve/double them enough time to exceed the under/over-flow limits  "
   ]
  },
  {
   "cell_type": "code",
   "execution_count": 9,
   "metadata": {},
   "outputs": [
    {
     "name": "stdout",
     "output_type": "stream",
     "text": [
      "Underflow Limit (smallest positive value): 5e-324\n",
      "Overflow Limit (largest positive value): 8.98846567431158e+307\n"
     ]
    }
   ],
   "source": [
    "import sys\n",
    "\n",
    "#Initialize variables\n",
    "underflow_limit = 1.0\n",
    "overflow_limit = 1.0\n",
    "\n",
    "#Determine the underflow limit (smallest positive value)\n",
    "while underflow_limit / 2 > 0:\n",
    "    underflow_limit /= 2\n",
    "\n",
    "#Determine the overflow limit (largest positive value)\n",
    "while overflow_limit * 2 < sys.float_info.max:\n",
    "    overflow_limit *= 2\n",
    "\n",
    "print(\"Underflow Limit (smallest positive value):\", underflow_limit)\n",
    "print(\"Overflow Limit (largest positive value):\", overflow_limit)"
   ]
  },
  {
   "cell_type": "markdown",
   "metadata": {},
   "source": [
    "4\\. Write a program to determine the machine precision\n",
    "\n",
    "**Tips**: define a new variable by adding a smaller and smaller value (proceeding similarly to prob. 2) to an original variable and check the point where the two are the same "
   ]
  },
  {
   "cell_type": "code",
   "execution_count": 11,
   "metadata": {},
   "outputs": [
    {
     "name": "stdout",
     "output_type": "stream",
     "text": [
      "Precision is up to the 15th decimal digit\n"
     ]
    }
   ],
   "source": [
    "counter = 0 #Counting the number of while-cycles\n",
    "i = 1       #Starting from the unit precision\n",
    "\n",
    "n = 1.0     #Inizializing to an arbitrary floating number\n",
    "\n",
    "while True:\n",
    "    new_n = n + (1 / i)   #Summing the same number just with a difference up to the 10^(-(i-1)) digit\n",
    "    \n",
    "    if (new_n == n):      #When they are the same we just stop the cycle\n",
    "        break\n",
    "    else:\n",
    "        counter += 1      #Counting\n",
    "        i *= 10           #Add precision\n",
    "        n = new_n         #Restarting from the previous precision we verified it's not the one of the machine\n",
    "        \n",
    "print(f\"Precision is up to the {counter-1}th decimal digit\")"
   ]
  },
  {
   "cell_type": "markdown",
   "metadata": {},
   "source": [
    "5\\. Write a function that takes in input three parameters $a$, $b$ and $c$ and prints out the two solutions to the quadratic equation $ax^2+bx+c=0$ using the standard formula:\n",
    "$$\n",
    "x=\\frac{-b\\pm\\sqrt{b^2-4ac}}{2a}\n",
    "$$\n",
    "\n",
    "(a) use the program to compute the solution for $a=0.001$, $b=1000$ and $c=0.001$\n",
    "\n",
    "(b) re-express the standard solution formula by multiplying top and bottom by $-b\\mp\\sqrt{b^2-4ac}$ and again find the solution for $a=0.001$, $b=1000$ and $c=0.001$. How does it compare with what previously obtained? Why?\n",
    "\n",
    "(c) write a function that compute the roots of a quadratic equation accurately in all cases"
   ]
  },
  {
   "cell_type": "code",
   "execution_count": null,
   "metadata": {},
   "outputs": [],
   "source": [
    "import math\n",
    "\n",
    "def quadratic_formula_solver(a, b, c):\n",
    "    c = math.sqrt((b*b) - (4*a*c))\n",
    "    x_plus = ((-b) + c) / (2*a)\n",
    "    x_minus = ((-b) - c) / (2*a)\n",
    "    return x_plus, x_minus\n",
    "\n",
    "def quadratic_formula_solver_version_2(a, b, c):\n",
    "    a = math.sqrt((b*b) - (4*a*c))\n",
    "    x_plus = (2*c) / ((-b) - a)\n",
    "    x_minus = (2*c) / ((-b) + a)\n",
    "    return x_plus, x_minus\n",
    "\n",
    "a = 0.001\n",
    "b = 1000\n",
    "c = 0.001\n",
    "\n",
    "x_plus, x_minus = quadratic_formula_solver(a, b, c)\n",
    "print(f\"a) Solution with +={x_plus}, solution with -={x_minus}\")\n",
    "\n",
    "x_plus, x_minus = quadratic_formula_solver_version_2(a, b, c)\n",
    "print(f\"b) Solution with +={x_plus}, solution with -={x_minus}\")"
   ]
  },
  {
   "cell_type": "markdown",
   "metadata": {},
   "source": [
    "6\\. Write a program that implements the function $f(x)=x(x−1)$\n",
    "\n",
    "(a) Calculate the derivative of the function at the point $x = 1$ using the derivative definition:\n",
    "\n",
    "$$\n",
    "\\frac{{\\rm d}f}{{\\rm d}x} = \\lim_{\\delta\\to0} \\frac{f(x+\\delta)-f(x)}{\\delta}\n",
    "$$\n",
    "\n",
    "with $\\delta = 10^{−2}$. Calculate the true value of the same derivative analytically and compare with the answer your program gives. The two will not agree perfectly. Why not?\n",
    "\n",
    "(b) Repeat the calculation for $\\delta = 10^{−4}, 10^{−6}, 10^{−8}, 10^{−10}, 10^{−12}$ and $10^{−14}$. How does the accuracy scales with $\\delta$?"
   ]
  },
  {
   "cell_type": "markdown",
   "metadata": {},
   "source": [
    "7\\. Consider the integral of the semicircle of radius 1:\n",
    "$$\n",
    "I=\\int_{-1}^{1} \\sqrt(1-x^2) {\\rm d}x\n",
    "$$\n",
    "which it's known to be $I=\\frac{\\pi}{2}=1.57079632679...$.\n",
    "Alternatively we can use the Riemann definition of the integral:\n",
    "$$\n",
    "I=\\lim_{N\\to\\infty} \\sum_{k=1}^{N} h y_k \n",
    "$$\n",
    "\n",
    "with $h=2/N$ the width of each of the $N$ slices the domain is divided into and where\n",
    "$y_k$ is the value of the function at the $k-$th slice.\n",
    "\n",
    "(a) Write a programe to compute the integral with $N=100$. How does the result compares to the true value?\n",
    "\n",
    "(b) How much can $N$ be increased if the computation needs to be run in less than a second? What is the gain in running it for 1 minute? \n"
   ]
  },
  {
   "cell_type": "code",
   "execution_count": null,
   "metadata": {},
   "outputs": [],
   "source": []
  }
 ],
 "metadata": {
  "kernelspec": {
   "display_name": "Python 3 (ipykernel)",
   "language": "python",
   "name": "python3"
  },
  "language_info": {
   "codemirror_mode": {
    "name": "ipython",
    "version": 3
   },
   "file_extension": ".py",
   "mimetype": "text/x-python",
   "name": "python",
   "nbconvert_exporter": "python",
   "pygments_lexer": "ipython3",
   "version": "3.11.5"
  }
 },
 "nbformat": 4,
 "nbformat_minor": 2
}
