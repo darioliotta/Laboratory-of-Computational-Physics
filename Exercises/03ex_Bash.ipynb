{
 "cells": [
  {
   "cell_type": "markdown",
   "id": "b5746bd0",
   "metadata": {},
   "source": [
    "The following exercises are meant to be solved by gathering the bash commands incrimentally in two scripts, one for ex 1.* the other for ex 2.* "
   ]
  },
  {
   "cell_type": "markdown",
   "id": "4e60de78",
   "metadata": {},
   "source": [
    "### Ex 1"
   ]
  },
  {
   "cell_type": "markdown",
   "id": "6759df36",
   "metadata": {},
   "source": [
    "1\\.a Make a new directory called `students` in your home. Download a csv file with the list of students of this lab from [here](https://www.dropbox.com/s/867rtx3az6e9gm8/LCP_22-23_students.csv) (use the `wget` command) and copy that to `students`. First check whether the file is already there"
   ]
  },
  {
   "cell_type": "markdown",
   "metadata": {},
   "source": [
    "```bash\n",
    "\n",
    "#Going home\n",
    "cd $HOME\n",
    "\n",
    "#Creating students directory\n",
    "mkdir students\n",
    "\n",
    "#Downloading the file\n",
    "wget https://www.dropbox.com/s/867rtx3az6e9gm8/LCP_22-23_students.csv\n",
    "\n",
    "#Copying the file into the students directory\n",
    "cp LCP_22-23_students.csv ./students\n",
    "\n",
    "#Checking if the file is there\n",
    "find ./students -name \"LCP_22-23_students.csv\""
   ]
  },
  {
   "cell_type": "markdown",
   "id": "798c0c9d",
   "metadata": {},
   "source": [
    "1\\.b Make two new files, one containing the students belonging to PoD, the other to Physics."
   ]
  },
  {
   "cell_type": "markdown",
   "metadata": {},
   "source": [
    "```bash\n",
    "\n",
    "\n",
    "#Creating the PoD file\n",
    "grep 'PoD' LCP_22-23_students.csv > PoD_students.csv\n",
    "\n",
    "#Creating the Physics file\n",
    "grep 'Physics' LCP_22-23_students.csv > Physics_students.csv"
   ]
  },
  {
   "cell_type": "markdown",
   "id": "8a43d622",
   "metadata": {},
   "source": [
    "1\\.c For each letter of the alphabet, count the number of students whose surname starts with that letter. "
   ]
  },
  {
   "cell_type": "markdown",
   "id": "4ba6bc90",
   "metadata": {},
   "source": [
    "1\\.d Find out which is the letter with most counts."
   ]
  },
  {
   "cell_type": "markdown",
   "metadata": {},
   "source": [
    "```bash\n",
    "\n",
    "#!/bin/bash\n",
    "\n",
    "max_count=0\n",
    "max_letter=''\n",
    "\n",
    "for letter in {A..Z}; do\n",
    "\n",
    "        count=$(tail -n +2 LCP_22-23_students.csv | grep -c \"^$letter\")   #The instruction 'tail -n +(N+1)' skips the first N rows\n",
    "        echo \"$letter: $count\"\n",
    "\n",
    "        if [ $count -gt $max_count ]; then\n",
    "            max_count=$count\n",
    "            max_letter=$letter\n",
    "        fi\n",
    "\n",
    "done\n",
    "\n",
    "echo \"The most frequent letter is $max_letter counted $max_count times\""
   ]
  },
  {
   "cell_type": "markdown",
   "id": "086a043c",
   "metadata": {},
   "source": [
    "1\\.e Assume an obvious numbering of the students in the file (first line is 1, second line is 2, etc.), group students \"modulo 18\", i.e. 1,19,37,.. 2,20,38,.. etc. and put each group in a separate file  "
   ]
  },
  {
   "cell_type": "markdown",
   "metadata": {},
   "source": [
    "```bash\n",
    "\n",
    "#!/bin/bash\n",
    "\n",
    "modulo=18    #Set the modulo\n",
    "\n",
    "total=$(grep -c -v \"^#\" LCP_22-23_students.csv)   #Counting the rows of the file\n",
    "\n",
    "i=2   #Inizializing the parameter to 2 because we wanna skip the first row and start from the second one\n",
    "\n",
    "while [ $i -lt $(($modulo+2)) ]; do    #We want to get from 1 to 18, so if we start from i=2 we have to get to i=19, so the condition is i<20\n",
    "\n",
    "        file_name=\"students_$(($i-1)).csv\"  #Naming the file where we will save the students\n",
    "        j=$i     #Fixing j=i because we the first number in every sequence is the following one (*1*,19,... and *2*,20,... and *3*,21,... ecc.)\n",
    "\n",
    "        while [ $j -le $total ]; do    #Now we go into every sequence\n",
    "\n",
    "                #sed -n \"${j}p\" copies the j-th row from the actual file to the new one; also >> appends a new row to the existing ones\n",
    "                sed -n \"${j}p\" LCP_22-23_students.csv >> \"$file_name\"\n",
    "                j=$(($j+$modulo))   #Updating the counting of j\n",
    "\n",
    "        done\n",
    "\n",
    "        i=$(($i+1))   #Updating the counting of i\n",
    "\n",
    "done"
   ]
  },
  {
   "cell_type": "markdown",
   "id": "1d730d21",
   "metadata": {},
   "source": [
    "### Ex 2"
   ]
  },
  {
   "cell_type": "markdown",
   "id": "4b87ecb7",
   "metadata": {},
   "source": [
    "2.a Make a copy of the file `data.csv` removing the metadata and the commas between numbers; call it `data.txt`"
   ]
  },
  {
   "cell_type": "markdown",
   "metadata": {},
   "source": [
    "```bash\n",
    "\n",
    "#Instruction sed 's/a/b/g' substitues character 'a' with character 'b' in every row (the final 'g' means 'global')\n",
    "grep -v '^#' data.csv | sed 's/,//g' > data.txt"
   ]
  },
  {
   "cell_type": "markdown",
   "id": "344048c8",
   "metadata": {},
   "source": [
    "2\\.b How many even numbers are there?"
   ]
  },
  {
   "cell_type": "markdown",
   "metadata": {},
   "source": [
    "```bash\n",
    "\n",
    "#!/bin/bash\n",
    "\n",
    "count=0\n",
    "\n",
    "for (( i=1; i<=$(grep -c \"\" data.txt); i++ )); do   #I iterate through all the rows of the file\n",
    "    for num in $(sed -n \"${i}p\" data.txt); do       #With sed -n \"${i}p\" we work with the i-th row like it is a vector\n",
    "\n",
    "        if [ $(($num % 2)) -eq 0 ]; then            #Checking if it is even by dividing by two and getting the rest\n",
    "                count=$(($count+1));                #Uploading the counting\n",
    "        fi;\n",
    "\n",
    "    done;\n",
    "done\n",
    "\n",
    "echo \"Number of even numbers: $count\""
   ]
  },
  {
   "cell_type": "markdown",
   "id": "2a27138d",
   "metadata": {},
   "source": [
    "2\\.c Distinguish the entries on the basis of `sqrt(X^2 + Y^2 + Z^2)` is greater or smaller than `100*sqrt(3)/2`. Count the entries of each of the two groups "
   ]
  },
  {
   "cell_type": "markdown",
   "id": "e937ef4e",
   "metadata": {},
   "source": [
    "2\\.d Make `n` copies of data.txt (with `n` an input parameter of the script), where the i-th copy has all the numbers divided by i (with `1<=i<=n`)."
   ]
  }
 ],
 "metadata": {
  "kernelspec": {
   "display_name": "Python 3 (ipykernel)",
   "language": "python",
   "name": "python3"
  },
  "language_info": {
   "codemirror_mode": {
    "name": "ipython",
    "version": 3
   },
   "file_extension": ".py",
   "mimetype": "text/x-python",
   "name": "python",
   "nbconvert_exporter": "python",
   "pygments_lexer": "ipython3",
   "version": "3.9.7"
  }
 },
 "nbformat": 4,
 "nbformat_minor": 5
}
