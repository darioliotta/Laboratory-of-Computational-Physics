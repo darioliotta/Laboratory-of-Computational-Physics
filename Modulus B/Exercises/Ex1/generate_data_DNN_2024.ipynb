{
 "cells": [
  {
   "cell_type": "code",
   "execution_count": null,
   "metadata": {},
   "outputs": [],
   "source": [
    "import numpy as np\n",
    "import matplotlib.pyplot as plt\n",
    "import matplotlib.cm as cm\n",
    "import os\n",
    "\n",
    "# number of data\n",
    "N=2000\n",
    "# size of each sample\n",
    "L=2\n",
    "# box size\n",
    "B=100\n",
    "\n",
    "!mkdir DATA"
   ]
  },
  {
   "cell_type": "code",
   "execution_count": null,
   "metadata": {
    "tags": []
   },
   "outputs": [],
   "source": [
    "%run nonlinear_function.py\n",
    "\n",
    "TYPE=1\n",
    "\n",
    "# random seed for reproducibility\n",
    "np.random.seed(12345)\n",
    "print(np.random.randint(0,10),np.random.randint(0,10),np.random.randint(0,10))\n",
    "\n",
    "x,y = (np.random.random((N,2))-0.5)*B, np.zeros(N)\n",
    "for i in range(N):\n",
    "    # label data according to a nonlinear function \"f\"\n",
    "    y[i] = f(x[i],TYPE)\n",
    "        \n",
    "plt.figure(figsize = (6,6))\n",
    "plt.scatter(x[:,0],x[:,1],c=y,cmap=cm.copper)\n",
    "plt.show\n",
    "\n",
    "fn=filename(\"data\",TYPE)\n",
    "np.savetxt(fn,x)\n",
    "print(fn)\n",
    "fn=filename(\"labels\",TYPE)\n",
    "np.savetxt(fn,y,fmt=\"%d\")\n",
    "print(fn)"
   ]
  },
  {
   "cell_type": "code",
   "execution_count": null,
   "metadata": {},
   "outputs": [],
   "source": []
  }
 ],
 "metadata": {
  "kernelspec": {
   "display_name": "Python 3 (ipykernel)",
   "language": "python",
   "name": "python3"
  },
  "language_info": {
   "codemirror_mode": {
    "name": "ipython",
    "version": 3
   },
   "file_extension": ".py",
   "mimetype": "text/x-python",
   "name": "python",
   "nbconvert_exporter": "python",
   "pygments_lexer": "ipython3",
   "version": "3.11.2"
  }
 },
 "nbformat": 4,
 "nbformat_minor": 4
}
