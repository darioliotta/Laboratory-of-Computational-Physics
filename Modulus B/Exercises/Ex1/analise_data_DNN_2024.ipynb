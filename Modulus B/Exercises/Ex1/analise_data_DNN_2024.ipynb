{
 "cells": [
  {
   "cell_type": "markdown",
   "metadata": {},
   "source": [
    "# DNN: analysis with Keras of 2D data"
   ]
  },
  {
   "cell_type": "code",
   "execution_count": null,
   "metadata": {},
   "outputs": [],
   "source": [
    "import numpy as np\n",
    "\n",
    "from keras.models import Sequential\n",
    "from keras.layers import Dense, Dropout\n",
    "\n",
    "import matplotlib as mpl\n",
    "mpl.rc('image', cmap='copper')\n",
    "import matplotlib.pyplot as plt\n",
    "# default font\n",
    "plt.rcParams['font.size'] = 15\n",
    "\n",
    "%run nonlinear_function.py\n",
    "\n",
    "# training data\n",
    "perc_train = 0.8"
   ]
  },
  {
   "cell_type": "code",
   "execution_count": null,
   "metadata": {},
   "outputs": [],
   "source": [
    "# Keras works with numpy arrays: just use them from the start\n",
    "TYPE=1\n",
    "x = np.loadtxt(filename(\"data\",TYPE), delimiter=' ')\n",
    "y = np.loadtxt(filename(\"labels\",TYPE), delimiter=' ')\n",
    "N = len(x)\n",
    "\n",
    "# dim. of a sample\n",
    "L = len(x[0])\n",
    "print(L)\n",
    "\n",
    "for i in range(10):\n",
    "    print(x[i],y[i])\n",
    "\n",
    "N_train = int(perc_train * N)\n",
    "print(f'data: {N}\\ntrain: {N_train}')\n",
    "\n",
    "plt.figure(figsize = (5,5))\n",
    "plt.scatter(x[:,0],x[:,1],c=y)\n",
    "plt.show"
   ]
  },
  {
   "cell_type": "markdown",
   "metadata": {},
   "source": [
    "### Split training and test data"
   ]
  },
  {
   "cell_type": "code",
   "execution_count": null,
   "metadata": {},
   "outputs": [],
   "source": [
    "(x_train, y_train) = (x[0:N_train],y[0:N_train])\n",
    "(x_valid, y_valid) = (x[N_train:],y[N_train:])\n",
    "print(\"Train:\",len(x_train),\"\\t Validation:\",len(x_valid))"
   ]
  },
  {
   "cell_type": "markdown",
   "metadata": {},
   "source": [
    "### Rescale input data"
   ]
  },
  {
   "cell_type": "code",
   "execution_count": null,
   "metadata": {},
   "outputs": [],
   "source": [
    "def Rescale(x):\n",
    "    #return (x-x.mean())/np.sqrt(x.var())\n",
    "    return x/50\n",
    "\n",
    "x_train = Rescale(x_train)\n",
    "x_valid = Rescale(x_valid)"
   ]
  },
  {
   "cell_type": "markdown",
   "metadata": {},
   "source": [
    "### Define the model with Keras / Tensorflow"
   ]
  },
  {
   "cell_type": "code",
   "execution_count": null,
   "metadata": {},
   "outputs": [],
   "source": [
    "# reproducibility (?)\n",
    "np.random.seed(12345)\n",
    "import tensorflow.random as tf_r\n",
    "tf_r.set_seed(12345)\n",
    "\n",
    "CASE=1\n",
    "\n",
    "if CASE==1:\n",
    "    model = Sequential()\n",
    "    model.add(Dense(L,input_shape=(L,),activation='relu'))\n",
    "    model.add(Dense(20,activation='relu'))\n",
    "    model.add(Dense(20,activation='relu'))\n",
    "    model.add(Dense(20,activation='relu'))\n",
    "    model.add(Dropout(0.2))\n",
    "    model.add(Dense(1,activation='sigmoid'))\n",
    "    nepoch=400\n",
    "# as case 1 but one layer shorter\n",
    "if CASE==2:\n",
    "    model = Sequential()\n",
    "    model.add(Dense(L,input_shape=(L,),activation='relu'))\n",
    "    model.add(Dense(20,activation='relu'))\n",
    "    model.add(Dense(20,activation='relu'))\n",
    "    model.add(Dropout(0.01))\n",
    "    model.add(Dense(1,activation='sigmoid'))\n",
    "    nepoch=400\n",
    "#deeper\n",
    "if CASE==3:\n",
    "    model = Sequential()\n",
    "    model.add(Dense(L,input_shape=(L,),activation='relu'))\n",
    "    model.add(Dense(10,activation='relu'))\n",
    "    model.add(Dense(10,activation='relu'))\n",
    "    model.add(Dense(10,activation='relu'))\n",
    "    model.add(Dense(10,activation='relu'))\n",
    "    model.add(Dense(10,activation='relu'))\n",
    "    model.add(Dense(10,activation='relu'))\n",
    "    model.add(Dense(1,activation='sigmoid'))\n",
    "    nepoch=400\n",
    "    \n",
    "if CASE==10:\n",
    "    model = Sequential()\n",
    "    model.add(Dense(L,input_shape=(L,),activation='sigmoid'))\n",
    "    model.add(Dense(6,activation='sigmoid'))\n",
    "    model.add(Dense(2,activation='sigmoid'))\n",
    "    model.add(Dense(1,activation='sigmoid'))\n",
    "    nepoch=400\n",
    "    \n",
    "if CASE==20:\n",
    "    model = Sequential()\n",
    "    model.add(Dense(L,input_shape=(L,),activation='linear'))\n",
    "    model.add(Dense(5,activation='tanh'))\n",
    "    model.add(Dense(1,activation='sigmoid'))\n",
    "    nepoch=400\n",
    "print(model.summary())"
   ]
  },
  {
   "cell_type": "markdown",
   "metadata": {},
   "source": [
    "### Optimization method and cost function"
   ]
  },
  {
   "cell_type": "code",
   "execution_count": null,
   "metadata": {},
   "outputs": [],
   "source": [
    "model.compile(loss='binary_crossentropy',\n",
    "              optimizer='RMSprop',\n",
    "              #optimizer='adam',\n",
    "              metrics=['accuracy'])"
   ]
  },
  {
   "cell_type": "markdown",
   "metadata": {},
   "source": [
    "### Training"
   ]
  },
  {
   "cell_type": "code",
   "execution_count": null,
   "metadata": {
    "scrolled": true,
    "tags": []
   },
   "outputs": [],
   "source": [
    "fit = model.fit(x_train, y_train,\n",
    "               epochs = nepoch, batch_size = 50,\n",
    "               validation_data=(x_valid,y_valid),\n",
    "               verbose=2)"
   ]
  },
  {
   "cell_type": "code",
   "execution_count": null,
   "metadata": {},
   "outputs": [],
   "source": [
    "fig,AX=plt.subplots(1,2,figsize=(14,6.))\n",
    "ax=AX[0]\n",
    "ax.plot(fit.history['accuracy'],label=\"train\",c=\"b\")\n",
    "ax.plot(fit.history['val_accuracy'],label=\"valid.\",c=\"r\")\n",
    "ax.set_xlabel('epoch')\n",
    "ax.set_ylabel(\"Accuracy\")\n",
    "ax.legend()\n",
    "ax=AX[1]\n",
    "ax.plot(fit.history['loss'],label=\"train\",c=\"b\")\n",
    "ax.plot(fit.history['val_loss'],label=\"valid.\",c=\"r\")\n",
    "ax.set_xlabel('epoch')\n",
    "ax.set_ylabel(\"Loss\")\n",
    "ax.legend()"
   ]
  },
  {
   "cell_type": "code",
   "execution_count": null,
   "metadata": {},
   "outputs": [],
   "source": [
    "dX = 2\n",
    "X1 = np.arange(-50,50+dX, dX)\n",
    "LG = len(X1)\n",
    "grid = np.zeros((LG*LG,2))\n",
    "k=0\n",
    "for i in range(LG):\n",
    "    for j in range(LG):\n",
    "        grid[k,:]=(X1[j],X1[i])\n",
    "        k=k+1\n",
    "print(len(X1),len(grid))\n",
    "print(grid[-1])\n",
    "\n",
    "# RESCALE\n",
    "\n",
    "grid_r = grid/50\n",
    "\n",
    "pred = model.predict(grid_r)"
   ]
  },
  {
   "cell_type": "code",
   "execution_count": null,
   "metadata": {},
   "outputs": [],
   "source": [
    "def boundaries():  \n",
    "    x1=-30\n",
    "    y1=-30\n",
    "    c=\"#AAAAFF\"\n",
    "    a=0.5\n",
    "    lw=5\n",
    "    ax.plot((50,-17),(-17,50),c=c,alpha=a,lw=lw)\n",
    "    ax.plot((50,0),(0,50),c=c,alpha=a,lw=lw)\n",
    "    ax.plot((x1,50),(y1,y1),c=c,alpha=a,lw=lw)\n",
    "    ax.plot((x1,x1),(y1,50),c=c,alpha=a,lw=lw)\n",
    "fig,AX=plt.subplots(1,3,figsize=(16,5.))\n",
    "ax=AX[0]\n",
    "ax.scatter(x[:,0],x[:,1],c=y)\n",
    "if TYPE==1: boundaries()\n",
    "ax.set_title(\"data\")\n",
    "ax=AX[1]\n",
    "ax.scatter(grid[:,0],grid[:,1],c=pred)\n",
    "if TYPE==1: boundaries()\n",
    "ax.set_title(\"prediction $\\\\hat y$\")\n",
    "ax=AX[2]\n",
    "W1=np.where(pred>0.5)[0] \n",
    "ax.scatter(grid[:,0],grid[:,1],c=\"#000000\")\n",
    "ax.scatter(grid[W1,0],grid[W1,1],c=\"#ffc77f\")\n",
    "if TYPE==1: boundaries()\n",
    "ax.set_title(\"where $\\\\hat y > 1/2$\")\n",
    "plt.show\n",
    "plt.show"
   ]
  },
  {
   "cell_type": "code",
   "execution_count": null,
   "metadata": {},
   "outputs": [],
   "source": [
    "TYPE"
   ]
  },
  {
   "cell_type": "code",
   "execution_count": null,
   "metadata": {},
   "outputs": [],
   "source": []
  },
  {
   "cell_type": "code",
   "execution_count": null,
   "metadata": {},
   "outputs": [],
   "source": []
  }
 ],
 "metadata": {
  "kernelspec": {
   "display_name": "Python 3 (ipykernel)",
   "language": "python",
   "name": "python3"
  },
  "language_info": {
   "codemirror_mode": {
    "name": "ipython",
    "version": 3
   },
   "file_extension": ".py",
   "mimetype": "text/x-python",
   "name": "python",
   "nbconvert_exporter": "python",
   "pygments_lexer": "ipython3",
   "version": "3.11.2"
  }
 },
 "nbformat": 4,
 "nbformat_minor": 4
}
